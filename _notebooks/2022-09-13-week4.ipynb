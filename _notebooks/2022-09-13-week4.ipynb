{
 "cells": [
  {
   "cell_type": "markdown",
   "metadata": {},
   "source": []
  },
  {
   "cell_type": "markdown",
   "metadata": {},
   "source": [
    "# Week 4 - Extra hacks\n",
    "\n"
   ]
  },
  {
   "cell_type": "code",
   "execution_count": 1,
   "metadata": {},
   "outputs": [
    {
     "name": "stdout",
     "output_type": "stream",
     "text": [
      "Hello, shivansh running /bin/python3\n",
      "You will be asked 3 questions.\n",
      "Are you ready to take a test! Press Enter key to begin. Best of luck :)\n",
      "Question 1 : Is my group setup strictly on the basis of current friends and common interests? (Answer yes/no)\n",
      " is incorrect! Better Luck next time.\n",
      "Question 2 : Is my group setup with diversity in backgrounds, gender, and perspectives?(Answer yes/no)\n",
      "yes is correct! Good Job!\n",
      "Question 3 : Is my group best equipped for the skill sets needed for success in classroom?(Answer yes/no)\n",
      "yes is correct! Good Job!\n",
      "shivansh you scored 2/3\n",
      "Total Percentage: 66.67%\n"
     ]
    }
   ],
   "source": [
    "import getpass, sys\n",
    "\n",
    "# method to display question and get user's answers\n",
    "def question_with_response(prompt, qCount):\n",
    "    print(\"Question \" + str(qCount)  + \" : \" + prompt)\n",
    "    msg = input()\n",
    "    return msg\n",
    "\n",
    "# dictionary to hold questions and answers as key : value pairs\n",
    "questionsDict = {\"Is my group setup strictly on the basis of current friends and common interests? (Answer yes/no)\": \"yes\",\n",
    "    \"Is my group setup with diversity in backgrounds, gender, and perspectives?(Answer yes/no)\": \"yes\", \n",
    "    \"Is my group best equipped for the skill sets needed for success in classroom?(Answer yes/no)\": \"yes\"\n",
    "}\n",
    "\n",
    "# number of questions as length of the dictionary\n",
    "questions = len(questionsDict)\n",
    "\n",
    "# set correct to 0\n",
    "correct = 0\n",
    "\n",
    "\n",
    "print('Hello, ' + getpass.getuser() + \" running \" + sys.executable)\n",
    "print(\"You will be asked \" + str(questions) + \" questions.\")\n",
    "print(\"Are you ready to take a test! Press Enter key to begin. Best of luck :)\")\n",
    "input()\n",
    "\n",
    "questionCount = 0\n",
    "# iterate over list of keys from the dictionary. pass dictionary key as question to the question_with_response function\n",
    "for key in questionsDict:\n",
    "    questionCount += 1\n",
    "    rsp = question_with_response(key, questionCount)\n",
    "    # compare the value from the dictionary to the user's input\n",
    "    if rsp.lower() == questionsDict[key].lower():\n",
    "        print(rsp + \" is correct! Good Job!\")\n",
    "        correct += 1\n",
    "    else:\n",
    "        print(rsp + \" is incorrect! Better Luck next time.\")\n",
    "\n",
    "# print final score    \n",
    "print(getpass.getuser() + \" you scored \" + str(correct) +\"/\" + str(questions))\n",
    "\n",
    "# calculate percentage\n",
    "page = correct/questions * 100\n",
    "\n",
    "# print percentage\n",
    "\n",
    "\n",
    "print(\"Total Perycentage: \" + str (format(page,\".2f\")) + \"%\")\n",
    "#Editing"
   ]
  }
 ],
 "metadata": {
  "kernelspec": {
   "display_name": "Python 3.8.10 64-bit",
   "language": "python",
   "name": "python3"
  },
  "language_info": {
   "codemirror_mode": {
    "name": "ipython",
    "version": 3
   },
   "file_extension": ".py",
   "mimetype": "text/x-python",
   "name": "python",
   "nbconvert_exporter": "python",
   "pygments_lexer": "ipython3",
   "version": "3.8.10"
  },
  "orig_nbformat": 4,
  "vscode": {
   "interpreter": {
    "hash": "916dbcbb3f70747c44a77c7bcd40155683ae19c65e1c03b4aa3499c5328201f1"
   }
  }
 },
 "nbformat": 4,
 "nbformat_minor": 2
}
