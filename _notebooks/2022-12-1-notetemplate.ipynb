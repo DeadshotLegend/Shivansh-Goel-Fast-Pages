{
 "cells": [
  {
   "cell_type": "markdown",
   "metadata": {},
   "source": [
    "# Note Template\n",
    "- comments: true"
   ]
  },
  {
   "cell_type": "markdown",
   "metadata": {},
   "source": [
    "# Take some additional notes that you would like here for 3.12 and 3.13. We will be looking for additional notes from the presentation. \n",
    "- A procedure call interrupts a series of statements and makes the program execute the statements in the procedure. After executing, it will return to the original call and finish the statements.\n",
    "- To determine what the result of a procedure is, you need to carefully examine the code line by line\n",
    "- The example which was given was squaring x\n",
    "- In JavaScript, use function instead of def in Python. Here are the basic steps to get you started. In Python we use \"def\" to define a function, but here we use \"function\". After that,  the rest of the program is pretty much the same.\n",
    "- We must be aware of the arguments that the method will need as well as the kind of data that it will return before we can begin coding it. We must be able to invoke the process.Writing the process's name in parentheses with the procedure's parameters is how you call a procedure (there may not be parameters, but parenthesis must be there). \n"
   ]
  },
  {
   "cell_type": "markdown",
   "metadata": {},
   "source": [
    "# What are procedures?\n",
    "\n",
    "**Fill in the blanks please:**\n",
    "\n",
    "Procedure: is a named group of programming instructions that may have parameters and return values.\n",
    "\n",
    "Parameters: input values of a procedure. \n",
    "\n",
    "Arguments: specify the values of the parameters when a procedure is called\n",
    "\n",
    "Modularity: Modularity is a measure of the structure of networks or graphs which measures the strength of division of a network into modules.\n",
    "\n",
    "Procedural Abstraction: Procedural abstraction is when we write code sections which are generalised by having variable parameters. \n",
    "\n",
    "What are some other names for procedures?: Some other names for procedures include function in python.\n",
    "\n",
    "Why are procedures effective?: Procedures are effective because for seperate values you don't have to create new codes but just replace the paramaters within the procedure.\n"
   ]
  },
  {
   "attachments": {},
   "cell_type": "markdown",
   "metadata": {},
   "source": [
    "## <mark>Challenge 1</mark> below: Add the command that will **call** the procedure. "
   ]
  },
  {
   "cell_type": "code",
   "execution_count": 37,
   "metadata": {},
   "outputs": [
    {
     "data": {
      "text/plain": [
       "'111'"
      ]
     },
     "execution_count": 37,
     "metadata": {},
     "output_type": "execute_result"
    }
   ],
   "source": [
    "decimal = 7\n",
    "\n",
    "def convertToBinary(num):\n",
    "   if num > 1:\n",
    "        return bin(num).replace(\"0b\", \"\")\n",
    "        \n",
    "\n",
    "\n",
    "convertToBinary(decimal)"
   ]
  },
  {
   "attachments": {},
   "cell_type": "markdown",
   "metadata": {},
   "source": [
    "## <mark>Challenge 2</mark> below: Complete the Min and Max procedure in either JavaScript and Python using the instructions from the JavaScript page. (JavaScript will get you a extra 0.1)"
   ]
  },
  {
   "cell_type": "code",
   "execution_count": 6,
   "metadata": {},
   "outputs": [
    {
     "name": "stdout",
     "output_type": "stream",
     "text": [
      "6\n",
      "None\n",
      "5\n"
     ]
    }
   ],
   "source": [
    "### Explanation for Code: Created two function \"findMax\" and \"findMin\" with findMax printing out the larger number and \"findMin\" number\n",
    "def findMax(numA, numB):\n",
    "    if numA>numB:\n",
    "        print(numA)\n",
    "    elif numA==numB:\n",
    "        print(\"Number A is equal to Number B\")\n",
    "    else:\n",
    "        print(numB)\n",
    "result = findMax(5, 6)\n",
    "print(result)\n",
    "\n",
    "def findMin(numC, numD):\n",
    "    if numC>numD:\n",
    "        print(numD)\n",
    "    elif numC==numD:\n",
    "        print(\"Number A is equal to Number B\")\n",
    "    else:\n",
    "        print(numC)\n",
    "result = findMin(5, 6)\n",
    "\n"
   ]
  },
  {
   "attachments": {},
   "cell_type": "markdown",
   "metadata": {},
   "source": [
    "## <mark>Homework/Hacks</mark>: For the hw, you have two options, easy or hard. The easy hack is for a 2.7 + extra work for the full 3. The easy hack is simply creating your own procedure with your own creativity. Since there is a lot of leeway for this one, you must do additional work to get a 3. For the hard hack, below is the start to a character to binary convertor. This is just a template, but the goal is to translate \"APCSP\" into binary. You can delete the existing code if you want. The only contraint is that you must use a procedure. Doing this will get you a 3. "
   ]
  },
  {
   "cell_type": "code",
   "execution_count": 14,
   "metadata": {},
   "outputs": [
    {
     "data": {
      "text/plain": [
       "[3,\n",
       " 6,\n",
       " 9,\n",
       " 12,\n",
       " 15,\n",
       " 18,\n",
       " 21,\n",
       " 24,\n",
       " 27,\n",
       " 30,\n",
       " 33,\n",
       " 36,\n",
       " 39,\n",
       " 42,\n",
       " 45,\n",
       " 48,\n",
       " 51,\n",
       " 54,\n",
       " 57,\n",
       " 60,\n",
       " 63,\n",
       " 66,\n",
       " 69,\n",
       " 72,\n",
       " 75,\n",
       " 78,\n",
       " 81,\n",
       " 84,\n",
       " 87,\n",
       " 90,\n",
       " 93,\n",
       " 96,\n",
       " 99]"
      ]
     },
     "execution_count": 14,
     "metadata": {},
     "output_type": "execute_result"
    }
   ],
   "source": [
    "#### Created two pieces of Python code (1/3):\n",
    "# ## Setting up a python function of iteration through a list of which numbers from 1-100 are either divisble by 2 or divislbe by 4\n",
    "def divisible(a, b, c):\n",
    "    divisby2_list = []\n",
    "    divisby3_list = []\n",
    "    divisby4_list = []\n",
    "\n",
    "    for i in a:\n",
    "        if i%2 == 0:\n",
    "            divisby2_list.append(i)\n",
    "\n",
    "    for l in c:\n",
    "        if l%3 == 0:\n",
    "            divisby3_list.append(l)\n",
    "    \n",
    "    for z in b:\n",
    "        if z%4 == 0:\n",
    "            divisby4_list.append(z)\n",
    "    \n",
    "    return divisby3_list ### Here you can choose whether to return either being divible 4 or divisible by 2 by siwtching out 4 and 2\n",
    "        \n",
    "a = [1,2,3,4,5,6,7,8,9,10,11,12,13,14,15,16,17,18,19,20,21,22,23,24,25,26,27,28,29,30,31,32,33,34,35,36,37,38,39,40,41,42,43,44,45,46,47,48,49,50,51,52,53,54,55,56,57,58,59,60,61,62,63,64,65,66,67,68,69,70,71,72,73,74,75,76,77,78,79,80,81,82,83,84,85,86,87,88,89,90,91,92,93,94,95,96,97,98,99,100]\n",
    "b = [1,2,3,4,5,6,7,8,9,10,11,12,13,14,15,16,17,18,19,20,21,22,23,24,25,26,27,28,29,30,31,32,33,34,35,36,37,38,39,40,41,42,43,44,45,46,47,48,49,50,51,52,53,54,55,56,57,58,59,60,61,62,63,64,65,66,67,68,69,70,71,72,73,74,75,76,77,78,79,80,81,82,83,84,85,86,87,88,89,90,91,92,93,94,95,96,97,98,99,100]\n",
    "c = [1,2,3,4,5,6,7,8,9,10,11,12,13,14,15,16,17,18,19,20,21,22,23,24,25,26,27,28,29,30,31,32,33,34,35,36,37,38,39,40,41,42,43,44,45,46,47,48,49,50,51,52,53,54,55,56,57,58,59,60,61,62,63,64,65,66,67,68,69,70,71,72,73,74,75,76,77,78,79,80,81,82,83,84,85,86,87,88,89,90,91,92,93,94,95,96,97,98,99,100]\n",
    "divisible(a, b, c)"
   ]
  },
  {
   "cell_type": "code",
   "execution_count": 25,
   "metadata": {},
   "outputs": [
    {
     "data": {
      "text/plain": [
       "-32268"
      ]
     },
     "execution_count": 25,
     "metadata": {},
     "output_type": "execute_result"
    }
   ],
   "source": [
    "### Second piece of code (2/3), mathematical operations with nested conditional statements with multiple parametrs\n",
    "def math(x, a, b):\n",
    "    if x<=10:\n",
    "        if x<=5:\n",
    "            return x*x*x\n",
    "        elif x<=3:\n",
    "            return x*x\n",
    "        else:\n",
    "            return x*x*x*x\n",
    "    elif 100>=x>=10:\n",
    "        if x<=50:\n",
    "            return x + a\n",
    "        elif 50<=x<=70:\n",
    "            return x - a\n",
    "        else:\n",
    "            return x - a*a\n",
    "    else:\n",
    "        if x<=500:\n",
    "            return x - a*a*a\n",
    "        else: \n",
    "            return x - a*a*a*a - b\n",
    "\n",
    "\n",
    "math(500, 32, 8)"
   ]
  },
  {
   "cell_type": "code",
   "execution_count": 24,
   "metadata": {},
   "outputs": [
    {
     "name": "stdout",
     "output_type": "stream",
     "text": [
      "11110000"
     ]
    }
   ],
   "source": [
    "### Third Piece of Code (3/3) Binary Converter for Integers:\n",
    "def convert(value):\n",
    "    if value > 1:\n",
    "        # dividing value by 2\n",
    "        convert(value//2)\n",
    "        # Printing the module value when divded by 2\n",
    "    print(value%2, end = \"\")\n",
    "\n",
    "convert(240)"
   ]
  }
 ],
 "metadata": {
  "kernelspec": {
   "display_name": "Python 3.8.2 64-bit",
   "language": "python",
   "name": "python3"
  },
  "language_info": {
   "codemirror_mode": {
    "name": "ipython",
    "version": 3
   },
   "file_extension": ".py",
   "mimetype": "text/x-python",
   "name": "python",
   "nbconvert_exporter": "python",
   "pygments_lexer": "ipython3",
   "version": "3.8.10"
  },
  "orig_nbformat": 4,
  "vscode": {
   "interpreter": {
    "hash": "916dbcbb3f70747c44a77c7bcd40155683ae19c65e1c03b4aa3499c5328201f1"
   }
  }
 },
 "nbformat": 4,
 "nbformat_minor": 2
}
