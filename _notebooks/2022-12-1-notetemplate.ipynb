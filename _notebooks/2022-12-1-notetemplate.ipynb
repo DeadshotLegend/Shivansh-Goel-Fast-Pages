{
 "cells": [
  {
   "cell_type": "markdown",
   "metadata": {},
   "source": [
    "# Note Template\n",
    "- comments: true"
   ]
  },
  {
   "cell_type": "markdown",
   "metadata": {},
   "source": [
    "# Take some additional notes that you would like here for 3.12 and 3.13. We will be looking for additional notes from the presentation. \n",
    "- A procedure call interrupts a series of statements and makes the program execute the statements in the procedure. After executing, it will return to the original call and finish the statements.\n",
    "- To determine what the result of a procedure is, you need to carefully examine the code line by line\n",
    "- The example which was given was squaring x\n",
    "- In JavaScript, use function instead of def in Python. Here are the basic steps to get you started. In Python we use \"def\" to define a function, but here we use \"function\". After that,  the rest of the program is pretty much the same.\n"
   ]
  },
  {
   "cell_type": "markdown",
   "metadata": {},
   "source": [
    "# What are procedures?\n",
    "\n",
    "**Fill in the blanks please:**\n",
    "\n",
    "Procedure: is a named group of programming instructions that may have parameters and return values.\n",
    "\n",
    "Parameters: input values of a procedure. \n",
    "\n",
    "Arguments: specify the values of the parameters when a procedure is called\n",
    "\n",
    "Modularity: Modularity is a measure of the structure of networks or graphs which measures the strength of division of a network into modules.\n",
    "\n",
    "Procedural Abstraction: Procedural abstraction is when we write code sections which are generalised by having variable parameters. \n",
    "\n",
    "What are some other names for procedures?: Some other names for procedures include function in python.\n",
    "\n",
    "Why are procedures effective?: Procedures are effective because for seperate values you don't have to create new codes but just replace the paramaters within the procedure.\n"
   ]
  },
  {
   "attachments": {},
   "cell_type": "markdown",
   "metadata": {},
   "source": [
    "## <mark>Challenge 1</mark> below: Add the command that will **call** the procedure. "
   ]
  },
  {
   "cell_type": "code",
   "execution_count": 2,
   "metadata": {},
   "outputs": [
    {
     "name": "stdout",
     "output_type": "stream",
     "text": [
      "\n"
     ]
    }
   ],
   "source": [
    "decimal = 7\n",
    "\n",
    "def convertToBinary(n):\n",
    "    \n",
    "\n",
    "\n",
    "    (decimal) \n",
    "print()"
   ]
  },
  {
   "attachments": {},
   "cell_type": "markdown",
   "metadata": {},
   "source": [
    "## <mark>Challenge 2</mark> below: Complete the Min and Max procedure in either JavaScript and Python using the instructions from the JavaScript page. (JavaScript will get you a extra 0.1)"
   ]
  },
  {
   "cell_type": "code",
   "execution_count": 6,
   "metadata": {},
   "outputs": [
    {
     "name": "stdout",
     "output_type": "stream",
     "text": [
      "6\n",
      "None\n",
      "5\n"
     ]
    }
   ],
   "source": [
    "### Explanation for Code: Created two function \"findMax\" and \"findMin\" with findMax printing out the larger number and \"findMin\" number\n",
    "def findMax(numA, numB):\n",
    "    if numA>numB:\n",
    "        print(numA)\n",
    "    elif numA==numB:\n",
    "        print(\"Number A is equal to Number B\")\n",
    "    else:\n",
    "        print(numB)\n",
    "result = findMax(5, 6)\n",
    "print(result)\n",
    "\n",
    "def findMin(numC, numD):\n",
    "    if numC>numD:\n",
    "        print(numD)\n",
    "    elif numC==numD:\n",
    "        print(\"Number A is equal to Number B\")\n",
    "    else:\n",
    "        print(numC)\n",
    "result = findMin(5, 6)\n",
    "\n"
   ]
  },
  {
   "attachments": {},
   "cell_type": "markdown",
   "metadata": {},
   "source": [
    "## <mark>Homework/Hacks</mark>: For the hw, you have two options, easy or hard. The easy hack is for a 2.7 + extra work for the full 3. The easy hack is simply creating your own procedure with your own creativity. Since there is a lot of leeway for this one, you must do additional work to get a 3. For the hard hack, below is the start to a character to binary convertor. This is just a template, but the goal is to translate \"APCSP\" into binary. You can delete the existing code if you want. The only contraint is that you must use a procedure. Doing this will get you a 3. "
   ]
  },
  {
   "cell_type": "code",
   "execution_count": 7,
   "metadata": {},
   "outputs": [],
   "source": [
    "def charToBinary(x):()\n",
    "\n",
    "\n",
    "\n",
    "\n",
    "\n",
    "\n",
    "\n",
    "\n",
    "\n",
    "\n",
    "\n",
    "\n",
    "\n",
    "\n",
    "\n",
    "\n",
    "\n",
    "\n",
    "\n",
    "\n",
    "\n",
    "\n",
    "\n",
    "\n",
    "\n",
    "\n",
    "\n",
    "# The output shown below is the output you are supposed to get"
   ]
  }
 ],
 "metadata": {
  "kernelspec": {
   "display_name": "Python 3.8.2 64-bit",
   "language": "python",
   "name": "python3"
  },
  "language_info": {
   "codemirror_mode": {
    "name": "ipython",
    "version": 3
   },
   "file_extension": ".py",
   "mimetype": "text/x-python",
   "name": "python",
   "nbconvert_exporter": "python",
   "pygments_lexer": "ipython3",
   "version": "3.8.10"
  },
  "orig_nbformat": 4,
  "vscode": {
   "interpreter": {
    "hash": "916dbcbb3f70747c44a77c7bcd40155683ae19c65e1c03b4aa3499c5328201f1"
   }
  }
 },
 "nbformat": 4,
 "nbformat_minor": 2
}
