{
 "cells": [
  {
   "cell_type": "markdown",
   "metadata": {},
   "source": [
    "# This is the personalized hacks for Week 5\n",
    "- categories: [bash, Week 1]"
   ]
  },
  {
   "cell_type": "code",
   "execution_count": 212,
   "metadata": {},
   "outputs": [
    {
     "name": "stdout",
     "output_type": "stream",
     "text": [
      "object ; Contender {\n",
      "  name: 'Dolphins',\n",
      "  money: '10.1B',\n",
      "  championships: 1000,\n",
      "  role: '' }\n",
      "string ; {\"name\":\"Dolphins\",\"money\":\"10.1B\",\"championships\":1000,\"role\":\"\"}\n",
      "object ; Contender {\n",
      "  name: 'Dolphins',\n",
      "  money: '10.1B',\n",
      "  championships: 1000,\n",
      "  role: 'ultimatechampion' }\n",
      "string ; {\"name\":\"Dolphins\",\"money\":\"10.1B\",\"championships\":1000,\"role\":\"ultimatechampion\"}\n"
     ]
    }
   ],
   "source": [
    "// define a function to hold data for a Contender\n",
    "function Contender(name, money, championships) {\n",
    "    this.name = name;\n",
    "    this.money = money;\n",
    "    this.championships = championships;\n",
    "    this.role = \"\";\n",
    "}\n",
    "\n",
    "// define a setter for role in Contender data\n",
    "Contender.prototype.setRole = function(role) {\n",
    "    this.role = role;\n",
    "}\n",
    "\n",
    "// define a JSON conversion \"method\" associated with Contender\n",
    "Contender.prototype.toJSON = function() {\n",
    "    const obj = {name: this.name, money: this.money, championships: this.championships, role: this.role};\n",
    "    const json = JSON.stringify(obj);\n",
    "    return json;\n",
    "}\n",
    "\n",
    "// make a new Contender and assign to variable ultimatechampion\n",
    "var ultimatechampion = new Contender(\"Dolphins\", \"10.1B\", 1000);  // object type is easy to work with in JavaScript\n",
    "logItType(ultimatechampion);  // before role\n",
    "logItType(ultimatechampion.toJSON());  \n",
    "\n",
    "ultimatechampion.setRole(\"ultimatechampion\");  \n",
    "logItType(ultimatechampion); \n",
    "logItType(ultimatechampion.toJSON());"
   ]
  },
  {
   "cell_type": "code",
   "execution_count": 210,
   "metadata": {},
   "outputs": [
    {
     "name": "stdout",
     "output_type": "stream",
     "text": [
      "object ; [ Contender {\n",
      "    name: 'Dolphins',\n",
      "    money: '10.1B',\n",
      "    championships: 1000,\n",
      "    role: 'ultimatechampion' },\n",
      "  Contender {\n",
      "    name: 'Cheifs',\n",
      "    money: '5.4B',\n",
      "    championships: 2019,\n",
      "    role: 'Student' },\n",
      "  Contender {\n",
      "    name: 'Packers',\n",
      "    money: '4.1B',\n",
      "    championships: 2008,\n",
      "    role: 'Student' },\n",
      "  Contender {\n",
      "    name: 'Warriors',\n",
      "    money: '5.2B',\n",
      "    championships: 20122,\n",
      "    role: 'Student' },\n",
      "  Contender {\n",
      "    name: 'Bears',\n",
      "    money: '3.4B',\n",
      "    championships: 2014,\n",
      "    role: 'Student' },\n",
      "  Contender {\n",
      "    name: 'Ravens',\n",
      "    money: '1.7B',\n",
      "    championships: 1995,\n",
      "    role: 'Student' },\n",
      "  Contender {\n",
      "    name: 'Bengals',\n",
      "    money: '2.7B',\n",
      "    championships: 2021,\n",
      "    role: 'Student' } ]\n",
      "string ; Dolphins\n",
      "string ; {\"name\":\"Dolphins\",\"money\":\"10.1B\",\"championships\":1000,\"role\":\"ultimatechampion\"}\n",
      "object ; { name: 'Dolphins',\n",
      "  money: '10.1B',\n",
      "  championships: 1000,\n",
      "  role: 'ultimatechampion' }\n"
     ]
    }
   ],
   "source": [
    "var poverty = [ \n",
    "    new Contender(\"Cheifs\", \"5.4B\", 2019),\n",
    "    new Contender(\"Packers\", \"4.1B\", 2008),\n",
    "    new Contender(\"Warriors\", \"5.2B\", 20122),\n",
    "    new Contender(\"Bears\", \"3.4B\", 2014),\n",
    "    new Contender(\"Ravens\", \"1.7B\", 1995),\n",
    "    new Contender(\"Bengals\", \"2.7B\", 2021)\n",
    "];\n",
    "\n",
    "function League(ultimatechampion, poverty){ \n",
    "    ultimatechampion.setRole(\"ultimatechampion\");\n",
    "    this.ultimatechampion = ultimatechampion;\n",
    "    this.League = [ultimatechampion];\n",
    "    this.poverty = poverty;\n",
    "    this.poverty.forEach(student => { student.setRole(\"Student\"); this.League.push(student); });\n",
    "    this.json = [];\n",
    "    this.League.forEach(Contender => this.json.push(Contender.toJSON()));\n",
    "}\n",
    "\n",
    "compsci = new League(ultimatechampion, poverty);\n",
    "\n",
    "logItType(compsci.League);  \n",
    "logItType(compsci.League[0].name);  \n",
    "logItType(compsci.json[0]);  \n",
    "logItType(JSON.parse(compsci.json[0]));  "
   ]
  },
  {
   "cell_type": "code",
   "execution_count": 211,
   "metadata": {},
   "outputs": [
    {
     "data": {
      "text/html": [
       "<div style='display:inline-block;background:black;border: 2px solid grey;box-shadow: 0.8em 0.4em 0.4em grey;'><table><tr><th><mark>Name</mark></th><th><mark>Money</mark></th><th><mark>Championships</mark></th></tr><tr><td>Dolphins</td><td>10.1B</td><td>1000</td><tr><tr><td>Cheifs</td><td>5.4B</td><td>2019</td><tr><tr><td>Packers</td><td>4.1B</td><td>2008</td><tr><tr><td>Warriors</td><td>5.2B</td><td>20122</td><tr><tr><td>Bears</td><td>3.4B</td><td>2014</td><tr><tr><td>Ravens</td><td>1.7B</td><td>1995</td><tr><tr><td>Bengals</td><td>2.7B</td><td>2021</td><tr></table></div>"
      ]
     },
     "execution_count": 211,
     "metadata": {},
     "output_type": "execute_result"
    }
   ],
   "source": [
    "League.prototype._toHtml = function() {\n",
    "  var style = (\n",
    "    \"display:inline-block;\" +\n",
    "    \"background:black;\" +\n",
    "    \"border: 2px solid grey;\" +\n",
    "    \"box-shadow: 0.8em 0.4em 0.4em grey;\"\n",
    "  );\n",
    "\n",
    "  var body = \"\";\n",
    "  body += \"<tr>\";\n",
    "  body += \"<th><mark>\" + \"Name\" + \"</mark></th>\";\n",
    "  body += \"<th><mark>\" + \"Money\" + \"</mark></th>\";\n",
    "  body += \"<th><mark>\" + \"Championships\" + \"</mark></th>\";\n",
    "  body += \"</tr>\";\n",
    "  for (var row of compsci.League) {\n",
    "    body += \"<tr>\";\n",
    "    body += \"<td>\" + row.name + \"</td>\";\n",
    "    body += \"<td>\" + row.money + \"</td>\";\n",
    "    body += \"<td>\" + row.championships + \"</td>\";\n",
    "    body += \"<tr>\";\n",
    "  }\n",
    "\n",
    "  return (\n",
    "    \"<div style='\" + style + \"'>\" +\n",
    "      \"<table>\" +\n",
    "        body +\n",
    "      \"</table>\" +\n",
    "    \"</div>\"\n",
    "  );\n",
    "\n",
    "};\n",
    "\n",
    "$$.html(compsci._toHtml());"
   ]
  }
 ],
 "metadata": {
  "kernelspec": {
   "display_name": "JavaScript (Node.js)",
   "language": "javascript",
   "name": "javascript"
  },
  "language_info": {
   "file_extension": ".js",
   "mimetype": "application/javascript",
   "name": "javascript",
   "version": "6.11.2"
  },
  "orig_nbformat": 4
 },
 "nbformat": 4,
 "nbformat_minor": 2
}
