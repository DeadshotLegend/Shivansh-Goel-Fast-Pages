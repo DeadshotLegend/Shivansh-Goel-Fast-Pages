{
 "cells": [
  {
   "cell_type": "code",
   "execution_count": null,
   "metadata": {},
   "outputs": [],
   "source": [
    "from datetime import date\n",
    "\n",
    "def calculate_age(born):\n",
    "    today = date.today()\n",
    "    return today.year - born.year - ((today.month, today.day) < (born.month, born.day))\n",
    "\n",
    "dob = date(2025, 12, 31)\n",
    "age = calculate_age(dob)\n",
    "print(age)"
   ]
  },
  {
   "cell_type": "code",
   "execution_count": null,
   "metadata": {},
   "outputs": [],
   "source": [
    "import android.content.Context;\n",
    "import android.hardware.Sensor;\n",
    "import android.hardware.SensorEvent;\n",
    "import android.hardware.SensorEventListener;\n",
    "import android.hardware.SensorManager;\n",
    "\n",
    "public class Gyroscope implements SensorEventListener {\n",
    "    private SensorManager sensorManager;\n",
    "    private Sensor gyroscopeSensor;\n",
    "    private float yaw;\n",
    "\n",
    "    public Gyroscope(Context context) {\n",
    "        sensorManager = (SensorManager) context.getSystemService(Context.SENSOR_SERVICE);\n",
    "        gyroscopeSensor = sensorManager.getDefaultSensor(Sensor.TYPE_GYROSCOPE);\n",
    "    }\n",
    "\n",
    "    public void start() {\n",
    "        sensorManager.registerListener(this, gyroscopeSensor, SensorManager.SENSOR_DELAY_NORMAL);\n",
    "    }\n",
    "\n",
    "    public void stop() {\n",
    "        sensorManager.unregisterListener(this);\n",
    "    }\n",
    "\n",
    "    @Override\n",
    "    public void onSensorChanged(SensorEvent event) {\n",
    "        yaw = event.values[0];\n",
    "    }\n",
    "\n",
    "    @Override\n",
    "    public void onAccuracyChanged(Sensor sensor, int accuracy) { }\n",
    "\n",
    "    public float getYaw() {\n",
    "        return yaw;\n",
    "    }\n",
    "}"
   ]
  }
 ],
 "metadata": {
  "kernelspec": {
   "display_name": "Python 3",
   "language": "python",
   "name": "python3"
  },
  "language_info": {
   "name": "python",
   "version": "3.8.10 (default, Jun 22 2022, 20:18:18) \n[GCC 9.4.0]"
  },
  "orig_nbformat": 4,
  "vscode": {
   "interpreter": {
    "hash": "916dbcbb3f70747c44a77c7bcd40155683ae19c65e1c03b4aa3499c5328201f1"
   }
  }
 },
 "nbformat": 4,
 "nbformat_minor": 2
}
