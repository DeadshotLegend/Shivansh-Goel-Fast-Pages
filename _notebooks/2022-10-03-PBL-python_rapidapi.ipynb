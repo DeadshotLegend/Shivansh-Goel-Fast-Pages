{
 "cells": [
  {
   "cell_type": "markdown",
   "metadata": {},
   "source": [
    "# API\n",
    "> Manipulating Data in an API\n",
    "\n",
    "- layout: default\n",
    "- badges: false\n",
    "- permalink: /collegeboard/error\n",
    "- image: /images/apcsp.png\n",
    "- categories: [1.B, 4.C]\n",
    "- type: ap\n",
    "- week: 7"
   ]
  },
  {
   "cell_type": "code",
   "execution_count": 47,
   "metadata": {},
   "outputs": [
    {
     "ename": "AttributeError",
     "evalue": "'list' object has no attribute 'items'",
     "output_type": "error",
     "traceback": [
      "\u001b[0;31m---------------------------------------------------------------------------\u001b[0m",
      "\u001b[0;31mAttributeError\u001b[0m                            Traceback (most recent call last)",
      "\u001b[1;32m/home/shivansh/vscode2/Shivansh-Goel-Fast-Pages/_notebooks/2022-10-03-PBL-python_rapidapi.ipynb Cell 2\u001b[0m in \u001b[0;36m<cell line: 19>\u001b[0;34m()\u001b[0m\n\u001b[1;32m     <a href='vscode-notebook-cell://wsl%2Bubuntu/home/shivansh/vscode2/Shivansh-Goel-Fast-Pages/_notebooks/2022-10-03-PBL-python_rapidapi.ipynb#W3sdnNjb2RlLXJlbW90ZQ%3D%3D?line=16'>17</a>\u001b[0m \u001b[39m#print(response.json())\u001b[39;00m\n\u001b[1;32m     <a href='vscode-notebook-cell://wsl%2Bubuntu/home/shivansh/vscode2/Shivansh-Goel-Fast-Pages/_notebooks/2022-10-03-PBL-python_rapidapi.ipynb#W3sdnNjb2RlLXJlbW90ZQ%3D%3D?line=17'>18</a>\u001b[0m champion \u001b[39m=\u001b[39m response\u001b[39m.\u001b[39mjson()\u001b[39m.\u001b[39mget(\u001b[39m'\u001b[39m\u001b[39mdata\u001b[39m\u001b[39m'\u001b[39m)\n\u001b[0;32m---> <a href='vscode-notebook-cell://wsl%2Bubuntu/home/shivansh/vscode2/Shivansh-Goel-Fast-Pages/_notebooks/2022-10-03-PBL-python_rapidapi.ipynb#W3sdnNjb2RlLXJlbW90ZQ%3D%3D?line=18'>19</a>\u001b[0m \u001b[39mfor\u001b[39;00m key, value \u001b[39min\u001b[39;00m champion\u001b[39m.\u001b[39;49mitems():  \u001b[39m# this finds key, value pairs in country\u001b[39;00m\n\u001b[1;32m     <a href='vscode-notebook-cell://wsl%2Bubuntu/home/shivansh/vscode2/Shivansh-Goel-Fast-Pages/_notebooks/2022-10-03-PBL-python_rapidapi.ipynb#W3sdnNjb2RlLXJlbW90ZQ%3D%3D?line=19'>20</a>\u001b[0m     \u001b[39mprint\u001b[39m(key, value)\n\u001b[1;32m     <a href='vscode-notebook-cell://wsl%2Bubuntu/home/shivansh/vscode2/Shivansh-Goel-Fast-Pages/_notebooks/2022-10-03-PBL-python_rapidapi.ipynb#W3sdnNjb2RlLXJlbW90ZQ%3D%3D?line=21'>22</a>\u001b[0m \u001b[39mprint\u001b[39m(\u001b[39m\"\u001b[39m\u001b[39mHere are the stadiums where the games are occuring at:\u001b[39m\u001b[39m\"\u001b[39m)\n",
      "\u001b[0;31mAttributeError\u001b[0m: 'list' object has no attribute 'items'"
     ]
    }
   ],
   "source": [
    "\"\"\"\n",
    "Requests is a HTTP library for the Python programming language. \n",
    "The goal of the project is to make HTTP requests simpler and more human-friendly. \n",
    "\"\"\"\n",
    "import requests\n",
    "\n",
    "url = \"https://nfl-schedule.p.rapidapi.com/v1/schedules\"\n",
    "\n",
    "headers = {\n",
    "\t\"X-RapidAPI-Key\": \"3aa60a1cb9msh07c4f9a1dcbe87bp1f7a8fjsne20cc9c3e9f1\",\n",
    "\t\"X-RapidAPI-Host\": \"nfl-schedule.p.rapidapi.com\"\n",
    "}\n",
    "\n",
    "response = requests.request(\"GET\", url, headers=headers)\n",
    "\n",
    "\n",
    "#print(response.json())\n",
    "print(\"Here are the stadiums where the games are occuring at:\")\n",
    "for sport in response.json().get('data'):\n",
    "       print(sport['venue'])\n",
    "print(\"Break\")\n",
    "print(\"Here are the dates where the games are occuring:\")\n",
    "for league in response.json().get('data'):\n",
    "\tprint(league['date'])\n",
    "print(\"Break\")\n",
    "print(\"Here are the matchups that are occuring:\")\n",
    "for four in response.json().get('data'):\n",
    "\tprint(four['name'])\n",
    "# score = response.json\n",
    "# print(\"Break\")\n",
    "# print(\"Here are the dates where the games are occuring:\")\n",
    "# for score in response.json().get('data'):\n",
    "# \tprint(score['score'])\n",
    "#print(sport['message'])\n",
    "\n",
    "\t\n",
    "\t"
   ]
  },
  {
   "cell_type": "code",
   "execution_count": 2,
   "metadata": {},
   "outputs": [
    {
     "name": "stdout",
     "output_type": "stream",
     "text": [
      "Hello, shivansh running /home/shivansh/anaconda3/bin/python\n",
      "You will be asked 7 questions.\n",
      "Are you ready to take a test! Press Enter key to begin. Best of luck :)\n",
      "Question 1 : When is the Cheifs vs Raiders Game?\n",
      "10/10/2022 is correct! Good Job!\n",
      "Question 2 : When is the Ravens vs Giants game?\n",
      "10/16/2022 is correct! Good Job!\n",
      "Question 3 : When is the Jaguars vs Colts game?\n",
      "10/16/2022 is correct! Good Job!\n",
      "Question 4 : When is the Patriots vs Browns game?\n",
      "10/16/2022 is correct! Good Job!\n",
      "Question 5 : When is the 49ers vs Falcons game?\n",
      "10/16/2022 is correct! Good Job!\n",
      "Question 6 : When is the Viking vs Dolphins game?\n",
      "10/16/2022 is correct! Good Job!\n",
      "Question 7 : When is the Cardinals vs Seahawks game?\n",
      "10/16/2022 is correct! Good Job!\n",
      "shivansh you scored 7/7\n",
      "Total Percentage: 100.00%\n"
     ]
    }
   ],
   "source": [
    "import getpass, sys\n",
    "\n",
    "# method to display question and get user's answers\n",
    "def question_with_response(prompt, qCount):\n",
    "    print(\"Question \" + str(qCount)  + \" : \" + prompt)\n",
    "    msg = input()\n",
    "    return msg\n",
    "\n",
    "# dictionary to hold questions and answers as key : value pairs\n",
    "questionsDict = {\"When is the Cheifs vs Raiders Game?\": \"10/10/2022\",\n",
    "    \"When is the Ravens vs Giants game?\": \"10/16/2022\", \n",
    "    \"When is the Jaguars vs Colts game?\": \"10/16/2022\",\n",
    "    \"When is the Patriots vs Browns game?\": \"10/16/2022\",\n",
    "    \"When is the 49ers vs Falcons game?\": \"10/16/2022\",\n",
    "    \"When is the Viking vs Dolphins game?\": \"10/16/2022\",\n",
    "    \"When is the Cardinals vs Seahawks game?\": \"10/16/2022\"\n",
    "}\n",
    "\n",
    "# number of questions as length of the dictionary\n",
    "questions = len(questionsDict)\n",
    "\n",
    "# set correct to 0\n",
    "correct = 0\n",
    "\n",
    "\n",
    "print('Hello, ' + getpass.getuser() + \" running \" + sys.executable)\n",
    "print(\"You will be asked \" + str(questions) + \" questions.\")\n",
    "print(\"Are you ready to take a test! Press Enter key to begin. Best of luck :)\")\n",
    "input()\n",
    "\n",
    "questionCount = 0\n",
    "# iterate over list of keys from the dictionary. pass dictionary key as question to the question_with_response function\n",
    "for key in questionsDict:\n",
    "    questionCount += 1\n",
    "    rsp = question_with_response(key, questionCount)\n",
    "    # compare the value from the dictionary to the user's input\n",
    "    if rsp.lower() == questionsDict[key].lower():\n",
    "        print(rsp + \" is correct! Good Job!\")\n",
    "        correct += 1\n",
    "    else:\n",
    "        print(rsp + \" is incorrect! Better Luck next time.\")\n",
    "\n",
    "# print final score    \n",
    "print(getpass.getuser() + \" you scored \" + str(correct) +\"/\" + str(questions))\n",
    "\n",
    "# calculate percentage\n",
    "page = correct/questions * 100\n",
    "\n",
    "# print percentage\n",
    "\n",
    "\n",
    "print(\"Total Percentage: \" + str (format(page,\".2f\")) + \"%\")"
   ]
  }
 ],
 "metadata": {
  "kernelspec": {
   "display_name": "Python 3.9.12 ('base')",
   "language": "python",
   "name": "python3"
  },
  "language_info": {
   "codemirror_mode": {
    "name": "ipython",
    "version": 3
   },
   "file_extension": ".py",
   "mimetype": "text/x-python",
   "name": "python",
   "nbconvert_exporter": "python",
   "pygments_lexer": "ipython3",
   "version": "3.9.12"
  },
  "orig_nbformat": 4,
  "vscode": {
   "interpreter": {
    "hash": "2c7ffa9c538f0bfb5740c89a215bcbde02033924243f3d233f0c9916449df403"
   }
  }
 },
 "nbformat": 4,
 "nbformat_minor": 2
}
