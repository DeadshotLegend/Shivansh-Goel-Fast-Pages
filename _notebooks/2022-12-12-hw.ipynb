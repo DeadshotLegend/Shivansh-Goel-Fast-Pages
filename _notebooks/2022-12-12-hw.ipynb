{
 "cells": [
  {
   "attachments": {},
   "cell_type": "markdown",
   "metadata": {},
   "source": [
    "# Unit 3 Lesson 16, Student Copy\n",
    "- toc: true\n",
    "- comments: true\n"
   ]
  },
  {
   "cell_type": "markdown",
   "metadata": {},
   "source": [
    "### Hack #1 - Class Notes\n",
    "\n",
    "Write any extra notes you have here\n",
    "- A simulation is an abstraction that mimics a more complex real-world object or phenomenon. Objectives include drawing inferences without the constraints of the real world. Simulations use different sets of values ​​to reflect the changing state of real-world phenomena. \n",
    "- When developing a simulation, it is often necessary to remove certain details or simplify aspects. Simulations can often contain distortions, depending on what details or real-world elements are included or excluded. \n",
    "- Simulations allow the formulation of the considered hypotheses. The variability and randomness of the world are taken into account with the help of a random number generator\n",
    "example:\n",
    "Roll dice, spin a top, model molecules, analyze chemistry/reactions..."
   ]
  },
  {
   "attachments": {},
   "cell_type": "markdown",
   "metadata": {},
   "source": [
    "### Hack #2 - Functions Classwork"
   ]
  },
  {
   "cell_type": "code",
   "execution_count": 9,
   "metadata": {},
   "outputs": [
    {
     "name": "stdout",
     "output_type": "stream",
     "text": [
      "Throwing out: belt\n"
     ]
    }
   ],
   "source": [
    "# insert your work with randomization/ functions and the mycloset code here # Hint: Use the functions we talked about in the beginning!\n",
    "# Completed the Bonus!\n",
    "import random \n",
    "myclothes = [\"red shoes\", \"green pants\", \"tie\", \"belt\"]\n",
    "\n",
    "def mycloset():\n",
    "    x = int(input(\"Do you want to throw or add (add = 1, throw = 0)\"))\n",
    "    if x==0:\n",
    "        element = random.choice(myclothes)\n",
    "        print(\"Throwing out: \" + element)\n",
    "    else:\n",
    "        newstuff = [\"sunglassess\", \"bugatti\"]\n",
    "        element2 = random.choice(newstuff)\n",
    "        myclothes.append(element2)\n",
    "        print(\"Adding in: \" + element2)\n",
    "\n",
    "    \n",
    "\n",
    "mycloset()"
   ]
  },
  {
   "cell_type": "markdown",
   "metadata": {},
   "source": [
    "### Weighted Coin Flip"
   ]
  },
  {
   "cell_type": "code",
   "execution_count": 36,
   "metadata": {},
   "outputs": [
    {
     "name": "stdout",
     "output_type": "stream",
     "text": [
      "Heads\n",
      "Tails\n",
      "Heads\n",
      "Tails\n",
      "Tails\n",
      "Tails\n"
     ]
    }
   ],
   "source": [
    "import random\n",
    "#### Biased towards TAILS\n",
    "def coinflip():        \n",
    "    randomflip = random.randint(0, 2)  \n",
    "    if randomflip == 1: \n",
    "        print(\"Heads\")\n",
    "    else:\n",
    "        print(\"Tails\")\n",
    "num1 = coinflip()\n",
    "num2 = coinflip()\n",
    "num3 = coinflip()\n",
    "num4 = coinflip()\n",
    "num5 = coinflip()\n",
    "num6 = coinflip()"
   ]
  },
  {
   "cell_type": "markdown",
   "metadata": {},
   "source": [
    "### Hack #3 - Binary Simulation Problem"
   ]
  },
  {
   "cell_type": "code",
   "execution_count": 35,
   "metadata": {},
   "outputs": [
    {
     "name": "stdout",
     "output_type": "stream",
     "text": [
      "['Peter Parker', 'Tom Holland']\n",
      "['Jiya', 'Shruthi', 'Noor', 'Ananya', 'Andrew Garfield', 'Tobey Maguire']\n",
      "First row demonstrates who survived, second row demonstrates who died\n"
     ]
    }
   ],
   "source": [
    "# insert your zombie simulation here; you don't have to use this template but it will help you get started\n",
    "\n",
    "import random\n",
    "\n",
    "def randomnum(): # function for generating random int\n",
    "    int1 = random.randint(1,10)\n",
    "    return(int1)\n",
    "    \n",
    "\n",
    "def converttobin(n): # function for converting decimal to binary\n",
    "    binary = bin(n)[2:]\n",
    "    binary = binary.zfill(8)\n",
    "    return binary\n",
    "    \n",
    "\n",
    "def saved(binary): # function to assign position\n",
    "    original = [\"Jiya\", \"Shruthi\", \"Noor\", \"Ananya\" , \"Peter Parker\", \"Andrew Garfield\", \"Tom Holland\", \"Tobey Maguire\"]\n",
    "    # replace the names above with your choice of people in the house\n",
    "    survivors2 = []\n",
    "    dead = []\n",
    "    for num in range(8):\n",
    "        if binary[num] == '1':\n",
    "            survivors2.append(original[num])\n",
    "        else:\n",
    "            dead.append(original[num])\n",
    "    \n",
    "    print(survivors2)\n",
    "    print(dead)\n",
    "    return survivors2\n",
    "\n",
    "    \n",
    "\n",
    "def final():\n",
    "    n = randomnum()\n",
    "    binary = converttobin(n) \n",
    "    saved(binary) \n",
    "    print(\"First row demonstrates who survived, second row demonstrates who died\")\n",
    "    \n",
    "\n",
    "final()\n"
   ]
  },
  {
   "cell_type": "markdown",
   "metadata": {},
   "source": [
    "### Hack #4 - Thinking through a problem\n",
    "- create your own simulation involving a dice roll\n",
    "- should include randomization and a function for rolling + multiple trials"
   ]
  },
  {
   "cell_type": "code",
   "execution_count": 9,
   "metadata": {},
   "outputs": [
    {
     "name": "stdout",
     "output_type": "stream",
     "text": [
      "1\n",
      "6\n",
      "4\n",
      "3\n",
      "4\n",
      "5\n"
     ]
    }
   ],
   "source": [
    "import random\n",
    "def dice():\n",
    "    x = random.randint(1,6) ### Taking a random integer from 1-6, cube has 6 sides\n",
    "    return(int(x))\n",
    "\n",
    "num1 = dice()\n",
    "num2 = dice()\n",
    "num3 = dice()\n",
    "num4 = dice()\n",
    "num5 = dice()\n",
    "num6 = dice() + dice() ### Adds two of the dice number:\n",
    "print(\"Trial 1: \" + num1)\n",
    "print(\"Trial 2: \" + num2)\n",
    "print(\"Trial 3: \" + num3)\n",
    "print(\"Trial 4: \" + num4)\n",
    "print(\"Trial 5: \" + num5)\n",
    "print(\"Trial 6 (Adding two numbers which were diced: \" + num6)\n",
    "\n"
   ]
  },
  {
   "attachments": {},
   "cell_type": "markdown",
   "metadata": {},
   "source": [
    "### Hack 5 - Applying your knowledge to situation based problems\n",
    "\n",
    "Using the questions bank below, create a quiz that presents the user a random question and calculates the user's score. You can use the template below or make your own. Making your own using a loop can give you extra points. "
   ]
  },
  {
   "attachments": {},
   "cell_type": "markdown",
   "metadata": {},
   "source": [
    "1. A researcher gathers data about the effect of Advanced Placement®︎ classes on students' success in college and career, and develops a simulation to show how a sequence of AP classes affect a hypothetical student's pathway.Several school administrators are concerned that the simulation contains bias favoring high-income students, however.\n",
    "    - answer options:\n",
    "        1. The simulation is an abstraction and therefore cannot contain any bias\n",
    "        2. The simulation may accidentally contain bias due to the exclusion of details.\n",
    "        3. If the simulation is found to contain bias, then it is not possible to remove the bias from the simulation.\n",
    "        4. The only way for the simulation to be biased is if the researcher intentionally used data that favored their desired output.\n",
    "2. Jack is trying to plan his financial future using an online tool. The tool starts off by asking him to input details about his current finances and career. It then lets him choose different future scenarios, such as having children. For each scenario chosen, the tool does some calculations and outputs his projected savings at the ages of 35, 45, and 55.Would that be considered a simulation and why?\n",
    "    - answer options\n",
    "        1. No, it's not a simulation because it does not include a visualization of the results.\n",
    "        2. No, it's not a simulation because it does not include all the details of his life history and the future financial environment.\n",
    "        3. Yes, it's a simulation because it runs on a computer and includes both user input and computed output.\n",
    "        4. Yes, it's a simulation because it is an abstraction of a real world scenario that enables the drawing of inferences.\n",
    "3. Sylvia is an industrial engineer working for a sporting goods company. She is developing a baseball bat that can hit balls with higher accuracy and asks their software engineering team to develop a simulation to verify the design.Which of the following details is most important to include in this simulation?\n",
    "    - answer options\n",
    "        1. Realistic sound effects based on the material of the baseball bat and the velocity of the hit\n",
    "        2. A depiction of an audience in the stands with lifelike behavior in response to hit accuracy\n",
    "        3. Accurate accounting for the effects of wind conditions on the movement of the ball\n",
    "        4. A baseball field that is textured to differentiate between the grass and the dirt\n",
    "4. Ashlynn is an industrial engineer who is trying to design a safer parachute. She creates a computer simulation of the parachute opening at different heights and in different environmental conditions.What are advantages of running the simulation versus an actual experiment?\n",
    "    - answer options\n",
    "        1. The simulation will not contain any bias that favors one body type over another, while an experiment will be biased.\n",
    "        2. The simulation can be run more safely than an actual experiment\n",
    "        3. The simulation will accurately predict the parachute's safety level, while an experiment may be inaccurate due to faulty experimental design.\n",
    "        4. The simulation can test the parachute design in a wide range of environmental conditions that may be difficult to reliably reproduce in an experiment.\n",
    "    * this question has 2 correct answers\n",
    "5. YOUR OWN QUESTION; can be situational, pseudo code based, or vocab/concept based\n",
    "6. YOUR OWN QUESTION; can be situational, pseudo code based, or vocab/concept based"
   ]
  },
  {
   "cell_type": "code",
   "execution_count": 38,
   "metadata": {},
   "outputs": [
    {
     "name": "stdout",
     "output_type": "stream",
     "text": [
      "Hello, shivansh running /bin/python3\n",
      "You will be asked 6 questions.\n",
      "Are you ready to take a test! Press Enter key to begin. Best of luck :)\n",
      "Question 1 : A researcher gathers data about the effect of Advanced Placement®︎ classes on students' success in college and career, and develops a simulation to show how a sequence of AP classes affect a hypothetical student's pathway.Several school administrators are concerned that the simulation contains bias favoring high-income students, however. Answer A:The simulation is an abstraction and therefore cannot contain any bias. Answer B: The simulation may accidentally contain bias due to the exclusion of details. Answer C: If the simulation is found to contain bias, then it is not possible to remove the bias from the simulation. Answer D: The only way for the simulation to be biased is if the researcher intentionally used data that favored their desired output.\n",
      "C is correct! Good Job!\n",
      "Question 2 : Jack is trying to plan his financial future using an online tool. The tool starts off by asking him to input details about his current finances and career. It then lets him choose different future scenarios, such as having children. For each scenario chosen, the tool does some calculations and outputs his projected savings at the ages of 35, 45, and 55.Would that be considered a simulation and why?. Answer A: No, it's not a simulation because it does not include a visualization of the results. Answer B: No, it's not a simulation because it does not include all the details of his life history and the future financial environment. Answer C: Yes, it's a simulation because it runs on a computer and includes both user input and computed output. Answer D: Yes, it's a simulation because it is an abstraction of a real world scenario that enables the drawing of inferences.\n",
      "D is correct! Good Job!\n",
      "Question 3 : Sylvia is an industrial engineer working for a sporting goods company. She is developing a baseball bat that can hit balls with higher accuracy and asks their software engineering team to develop a simulation to verify the design.Which of the following details is most important to include in this simulation? Answer A: Realistic sound effects based on the material of the baseball bat and the velocity of the hit. Answer B: A depiction of an audience in the stands with lifelike behavior in response to hit accuracy. Answer C: Accurate accounting for the effects of wind conditions on the movement of the ball. Answer D: A baseball field that is textured to differentiate between the grass and the dirt\n",
      "C is correct! Good Job!\n",
      "Question 4 : Ashlynn is an industrial engineer who is trying to design a safer parachute. She creates a computer simulation of the parachute opening at different heights and in different environmental conditions.What are advantages of running the simulation versus an actual experiment? Answer A: The simulation will not contain any bias that favors one body type over another, while an experiment will be biased. Answer B: The simulation can be run more safely than an actual experiment. Answer C: The simulation will accurately predict the parachute's safety level, while an experiment may be inaccurate due to faulty experimental design. Answer D: The simulation can test the parachute design in a wide range of environmental conditions that may be difficult to reliably reproduce in an experiment.\n",
      "D is correct! Good Job!\n",
      "Question 5 : What is the end of the file name of Mark Down Post?\n",
      ".md is correct! Good Job!\n",
      "Question 6 : What command in terminal allows one to switch directory?\n",
      "cd is correct! Good Job!\n",
      "shivansh you scored 6/6\n",
      "Total Percentage: 100.00%\n"
     ]
    }
   ],
   "source": [
    "import getpass, sys\n",
    "\n",
    "# method to display question and get user's answers\n",
    "def question_with_response(prompt, qCount):\n",
    "    print(\"Question \" + str(qCount)  + \" : \" + prompt)\n",
    "    msg = input()\n",
    "    return msg\n",
    "\n",
    "# dictionary to hold questions and answers as key : value pairs\n",
    "questionsDict = {\"A researcher gathers data about the effect of Advanced Placement®︎ classes on students' success in college and career, and develops a simulation to show how a sequence of AP classes affect a hypothetical student's pathway.Several school administrators are concerned that the simulation contains bias favoring high-income students, however. Answer A:The simulation is an abstraction and therefore cannot contain any bias. Answer B: The simulation may accidentally contain bias due to the exclusion of details. Answer C: If the simulation is found to contain bias, then it is not possible to remove the bias from the simulation. Answer D: The only way for the simulation to be biased is if the researcher intentionally used data that favored their desired output.\": \"C\",\n",
    "    \"Jack is trying to plan his financial future using an online tool. The tool starts off by asking him to input details about his current finances and career. It then lets him choose different future scenarios, such as having children. For each scenario chosen, the tool does some calculations and outputs his projected savings at the ages of 35, 45, and 55.Would that be considered a simulation and why?. Answer A: No, it's not a simulation because it does not include a visualization of the results. Answer B: No, it's not a simulation because it does not include all the details of his life history and the future financial environment. Answer C: Yes, it's a simulation because it runs on a computer and includes both user input and computed output. Answer D: Yes, it's a simulation because it is an abstraction of a real world scenario that enables the drawing of inferences.\": \"D\", \n",
    "    \"Sylvia is an industrial engineer working for a sporting goods company. She is developing a baseball bat that can hit balls with higher accuracy and asks their software engineering team to develop a simulation to verify the design.Which of the following details is most important to include in this simulation? Answer A: Realistic sound effects based on the material of the baseball bat and the velocity of the hit. Answer B: A depiction of an audience in the stands with lifelike behavior in response to hit accuracy. Answer C: Accurate accounting for the effects of wind conditions on the movement of the ball. Answer D: A baseball field that is textured to differentiate between the grass and the dirt\": \"C\",\n",
    "    \"Ashlynn is an industrial engineer who is trying to design a safer parachute. She creates a computer simulation of the parachute opening at different heights and in different environmental conditions.What are advantages of running the simulation versus an actual experiment? Answer A: The simulation will not contain any bias that favors one body type over another, while an experiment will be biased. Answer B: The simulation can be run more safely than an actual experiment. Answer C: The simulation will accurately predict the parachute's safety level, while an experiment may be inaccurate due to faulty experimental design. Answer D: The simulation can test the parachute design in a wide range of environmental conditions that may be difficult to reliably reproduce in an experiment.\": \"D\",\n",
    "    \"What is the end of the file name of Mark Down Post?\": \".md\",\n",
    "    \"What command in terminal allows one to switch directory?\": \"cd\"\n",
    "}\n",
    "\n",
    "# number of questions as length of the dictionary\n",
    "questions = len(questionsDict)\n",
    "\n",
    "# set correct to 0\n",
    "correct = 0\n",
    "\n",
    "\n",
    "print('Hello, ' + getpass.getuser() + \" running \" + sys.executable)\n",
    "print(\"You will be asked \" + str(questions) + \" questions.\")\n",
    "print(\"Are you ready to take a test! Press Enter key to begin. Best of luck :)\")\n",
    "input()\n",
    "\n",
    "questionCount = 0\n",
    "# iterate over list of keys from the dictionary. pass dictionary key as question to the question_with_response function\n",
    "for key in questionsDict:\n",
    "    questionCount += 1\n",
    "    rsp = question_with_response(key, questionCount)\n",
    "    # compare the value from the dictionary to the user's input\n",
    "    if rsp.lower() == questionsDict[key].lower():\n",
    "        print(rsp + \" is correct! Good Job!\")\n",
    "        correct += 1\n",
    "    else:\n",
    "        print(rsp + \" is incorrect! Better Luck next time.\")\n",
    "\n",
    "# print final score    \n",
    "print(getpass.getuser() + \" you scored \" + str(correct) +\"/\" + str(questions))\n",
    "\n",
    "# calculate percentage\n",
    "page = correct/questions * 100\n",
    "\n",
    "# print percentage\n",
    "\n",
    "\n",
    "print(\"Total Percentage: \" + str (format(page,\".2f\")) + \"%\")"
   ]
  },
  {
   "attachments": {},
   "cell_type": "markdown",
   "metadata": {},
   "source": [
    "### Hack #6 / Challenge - Taking real life problems and implementing them into code"
   ]
  },
  {
   "attachments": {},
   "cell_type": "markdown",
   "metadata": {},
   "source": [
    "Create your own simulation based on your experiences/knowledge!\n",
    "Be creative! Think about instances in your own life, science, puzzles that can be made into simulations\n",
    "\n",
    "Some ideas to get your brain running: A simulation that breeds two plants and tells you phenotypes of offspring, an adventure simulation..."
   ]
  },
  {
   "cell_type": "code",
   "execution_count": null,
   "metadata": {},
   "outputs": [],
   "source": []
  }
 ],
 "metadata": {
  "kernelspec": {
   "display_name": "Python 3",
   "language": "python",
   "name": "python3"
  },
  "language_info": {
   "codemirror_mode": {
    "name": "ipython",
    "version": 3
   },
   "file_extension": ".py",
   "mimetype": "text/x-python",
   "name": "python",
   "nbconvert_exporter": "python",
   "pygments_lexer": "ipython3",
   "version": "3.8.10"
  },
  "orig_nbformat": 4,
  "vscode": {
   "interpreter": {
    "hash": "916dbcbb3f70747c44a77c7bcd40155683ae19c65e1c03b4aa3499c5328201f1"
   }
  }
 },
 "nbformat": 4,
 "nbformat_minor": 2
}
