{
 "cells": [
  {
   "cell_type": "markdown",
   "metadata": {},
   "source": [
    "### Notes for Searching Introduction:\n",
    "- Sequential Search:\n",
    "Although for selection sort is seemingly fast for smaller inputs, it is clear that it cannot keep up with increasing input sizes. Because every value in the provided array is checked using sequential search, the algorithm's overall runtime grows \"linearly\" with the input size. Checking for the worst-case situation, where runtime is maximized, can help us assess the sequential search method.\n",
    "This is because we need to be able to guarantee an upper bound or certain length of time for our program to complete executing while evaluating the effectiveness of our algorithm.\n",
    "To do this, we'll try to find the array's final element. \n",
    "- Binary Search: A SORTED list may be efficiently iterated over to find a specified value using binary search.\n",
    "This is accomplished by determining if the desired value is larger than or less than the list's middle value.\n",
    "You can now understand the necessity of sorting the desired list.\n",
    "This reasoning is faulty if the list is not sorted, and the binary search technique will no longer function.Binary search does not look for a match before moving on to the next element, unlike sequential search.\n",
    "The algorithm decides whether the selected element is bigger or smaller than the target in every iteration. "
   ]
  },
  {
   "cell_type": "markdown",
   "metadata": {},
   "source": [
    "### Notes for Devolping Algorithms Python and Javascript\n",
    "Different techniques of writing algorithms can nonetheless get the same results. Similar-looking algorithms can provide different results. Numerous algorithms can be employed to tackle the same issue. \n",
    "Example of A python Algoirthm:\n",
    "temp = 95\n",
    "if (temp >= 90):\n",
    "    print(\"it is too hot outside\")\n",
    "else:\n",
    "    if (temp >= 65):\n",
    "        print(\"I will go outside\")\n",
    "    else:\n",
    "        print(\"it is too cold outside\")"
   ]
  },
  {
   "cell_type": "markdown",
   "metadata": {},
   "source": [
    "## Challenges and Homework\n",
    "\n",
    "You have one homework problem.\n",
    "  \n",
    "Yes just one.\n",
    "  \n",
    "Don't get excited though.\n",
    "\n",
    "**Problem:** Given a specific integer **N**, return the square root of **N** (**R**) if **N** is a perfect square, otherwise, return the square root of **N** rounded down to the nearest integer\n",
    "\n",
    "**Input:** **N** (Integer)\n",
    "\n",
    "**Output:** **R** (Integer)\n",
    "  \n",
    "**Constraints:** Do not use any built-in math operations such as `sqrt(x)` or `x**(0.5)`, Try complete the problem in logarithmic time. \n",
    "  \n",
    "**Hint 1:** Maybe you can use Binary Search to try and reduce the number of checks you have to perform?  \n",
    "  \n",
    "**Hint 2:** Is there a mathematical pattern amongst numbers and their square roots that could help you reduce the number of searches or iterations you must execute? Is there some value or rule you can set before applying binary search to narrow the range of possible values?"
   ]
  },
  {
   "cell_type": "code",
   "execution_count": null,
   "metadata": {},
   "outputs": [],
   "source": [
    "def sqrt(N):\n",
    "    # Write your code here\n",
    "    return None"
   ]
  },
  {
   "cell_type": "code",
   "execution_count": null,
   "metadata": {},
   "outputs": [],
   "source": [
    "from math import sqrt as sq\n",
    "test_cases = [0,1,4,85248289,22297284,18939904,91107025,69122596,9721924,37810201,1893294144,8722812816,644398225]\n",
    "answers = [int(sq(x)) for x in test_cases]\n",
    "\n",
    "def checkValid():\n",
    "    for i in range(len(test_cases)):\n",
    "        if sqrt(test_cases[i]) == answers[i]:\n",
    "            print(\"Check number {} passed\".format(i+1))\n",
    "        else:\n",
    "            print(\"Check number {} failed\".format(i+1))\n",
    "\n",
    "checkValid()"
   ]
  },
  {
   "cell_type": "code",
   "execution_count": 6,
   "metadata": {},
   "outputs": [
    {
     "name": "stdout",
     "output_type": "stream",
     "text": [
      "6\n",
      "3.0\n",
      "10.0\n",
      "5.0\n",
      "16.0\n",
      "8.0\n",
      "4.0\n",
      "2.0\n",
      "1\n"
     ]
    }
   ],
   "source": [
    "def function(value):\n",
    "    while value != 1:\n",
    "        print(value)\n",
    "        if value % 2 == 0:\n",
    "            value = value / 2\n",
    "        else:\n",
    "            value = 3 * value + 1\n",
    "    else:\n",
    "        print(1)\n",
    "\n",
    "### Over Here put whatever number that you want to use for Collatz Conjecture\n",
    "function(6)"
   ]
  },
  {
   "cell_type": "code",
   "execution_count": null,
   "metadata": {},
   "outputs": [],
   "source": []
  }
 ],
 "metadata": {
  "kernelspec": {
   "display_name": "Python 3.8.10 64-bit",
   "language": "python",
   "name": "python3"
  },
  "language_info": {
   "codemirror_mode": {
    "name": "ipython",
    "version": 3
   },
   "file_extension": ".py",
   "mimetype": "text/x-python",
   "name": "python",
   "nbconvert_exporter": "python",
   "pygments_lexer": "ipython3",
   "version": "3.8.10"
  },
  "orig_nbformat": 4,
  "vscode": {
   "interpreter": {
    "hash": "916dbcbb3f70747c44a77c7bcd40155683ae19c65e1c03b4aa3499c5328201f1"
   }
  }
 },
 "nbformat": 4,
 "nbformat_minor": 2
}
