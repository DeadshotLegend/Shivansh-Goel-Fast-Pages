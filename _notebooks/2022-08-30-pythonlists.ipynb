{
 "cells": [
  {
   "cell_type": "markdown",
   "metadata": {},
   "source": [
    "---\n",
    "categories: [Notebooks]\n",
    "---\n",
    "\n",
    "# This is Week 3 Hacks Pythonh Lists"
   ]
  },
  {
   "cell_type": "code",
   "execution_count": 2,
   "metadata": {},
   "outputs": [],
   "source": [
    " #Define an empty List called InfoDb\n",
    "InfoDb = []\n",
    "\n",
    "# InfoDB is a data structure with expected Keys and Values\n",
    "\n",
    "# Append to List a Dictionary of key/values related to a person and cars\n",
    "InfoDb.append({\n",
    "    \"FirstName\": \"John\",\n",
    "    \"LastName\": \"Mortensen\",\n",
    "    \"DOB\": \"October 21\",\n",
    "    \"Residence\": \"San Diego\",\n",
    "    \"Email\": \"jmortensen@powayusd.com\",\n",
    "    \"Owns_Cars\": [\"2015-Fusion\", \"2011-Ranger\", \"2003-Excursion\", \"1997-F350\", \"1969-Cadillac\"]\n",
    "})\n",
    "\n",
    "# Append to List a 2nd Dictionary of key/values\n",
    "InfoDb.append({\n",
    "    \"FirstName\": \"Sunny\",\n",
    "    \"LastName\": \"Naidu\",\n",
    "    \"DOB\": \"August 2\",\n",
    "    \"Residence\": \"Temecula\",\n",
    "    \"Email\": \"snaidu@powayusd.com\",\n",
    "    \"Owns_Cars\": [\"4Runner\"]\n",
    "})\n",
    "\n",
    "InfoDb.append({\n",
    "    \"FirstName\": \"Shivansh\",\n",
    "    \"LastName\": \"Goel\",\n",
    "    \"DOB\": \"October 29 2007\",\n",
    "    \"Residence\": \"San Diego\",\n",
    "    \"EMail\": \"shivanshggamer@gmail.com\",\n",
    "    \"Owns_Cars\": [\"Red Bugatti\", \"Yellow Bugatti\", \"Orange Bugatti\"]\n",
    "})\n",
    "\n",
    "InfoDb.append({\n",
    "    \"FirstName\": \"Joe\",\n",
    "    \"LastName\": \"Mama\",\n",
    "    \"DOB\": \"July 4\",\n",
    "    \"Residence\": \"New York\",\n",
    "    \"Email\": \"joemama@yahoo.com\",\n",
    "    \"Owns_Cars\": [\"Lamborhini\"]\n",
    "})\n",
    "\n",
    "\n",
    "\n",
    "\n"
   ]
  },
  {
   "cell_type": "code",
   "execution_count": 3,
   "metadata": {},
   "outputs": [
    {
     "name": "stdout",
     "output_type": "stream",
     "text": [
      "For loop output\n",
      "\n",
      "John Mortensen\n",
      "\t Residence: San Diego\n",
      "\t Birth Day: October 21\n",
      "\t Cars: 2015-Fusion, 2011-Ranger, 2003-Excursion, 1997-F350, 1969-Cadillac\n",
      "\n",
      "Sunny Naidu\n",
      "\t Residence: Temecula\n",
      "\t Birth Day: August 2\n",
      "\t Cars: 4Runner\n",
      "\n",
      "Shivansh Goel\n",
      "\t Residence: San Diego\n",
      "\t Birth Day: October 29 2007\n",
      "\t Cars: Red Bugatti, Yellow Bugatti, Orange Bugatti\n",
      "\n",
      "Joe Mama\n",
      "\t Residence: New York\n",
      "\t Birth Day: July 4\n",
      "\t Cars: Lamborhini\n",
      "\n"
     ]
    }
   ],
   "source": [
    "def print_data(d_rec):\n",
    "    print(d_rec[\"FirstName\"], d_rec[\"LastName\"])  # using comma puts space between values\n",
    "    print(\"\\t\", \"Residence:\", d_rec[\"Residence\"]) # \\t is a tab indent\n",
    "    print(\"\\t\", \"Birth Day:\", d_rec[\"DOB\"])\n",
    "    print(\"\\t\", \"Cars: \", end=\"\")  # end=\"\" make sure no return occurs\n",
    "    print(\", \".join(d_rec[\"Owns_Cars\"]))  # join allows printing a string list with separator\n",
    "    print()\n",
    "\n",
    "    # Print the data structure\n",
    "def for_loop(InfoDb):\n",
    "    print(\"For loop output\\n\")\n",
    "    for record in InfoDb:\n",
    "        print_data(record)\n",
    "\n",
    "for_loop(InfoDb)"
   ]
  },
  {
   "cell_type": "code",
   "execution_count": 9,
   "metadata": {},
   "outputs": [
    {
     "name": "stdout",
     "output_type": "stream",
     "text": [
      "Question 22 : What command is used to include other functions that were previously developed?\n",
      "f is incorrect! Better Luck next time.\n",
      "Question 23 : What command in this example is used to evaluate a response?\n",
      "f is incorrect! Better Luck next time.\n",
      "Question 24 : Each 'if' command contains an '_________' to determine a true or false condition?\n",
      "f is incorrect! Better Luck next time.\n",
      "Question 25 : What does Jupyter Notebooks use?\n",
      "f is incorrect! Better Luck next time.\n",
      "Question 26 : What is the end of the file name of Mark Down Post?\n",
      "f is incorrect! Better Luck next time.\n",
      "Question 27 : What kernel does one need to use to use python?\n",
      "f is incorrect! Better Luck next time.\n",
      "Question 28 : What command in terminal allows one to switch directory?\n",
      "f is incorrect! Better Luck next time.\n"
     ]
    }
   ],
   "source": [
    "import getpass, sys\n",
    "\n",
    "def question_with_response(prompt, qCount):\n",
    "    print(\"Question \" + str(qCount)  + \" : \" + prompt)\n",
    "    msg = input()\n",
    "    return msg\n",
    "\n",
    "questionsDict = {\"What command is used to include other functions that were previously developed?\": \"import\",\n",
    "    \"What command in this example is used to evaluate a response?\": \"if\", \n",
    "    \"Each 'if' command contains an '_________' to determine a true or false condition?\": \"expression\",\n",
    "    \"What does Jupyter Notebooks use?\": \"python\",\n",
    "    \"What is the end of the file name of Mark Down Post?\": \".md\",\n",
    "    \"What kernel does one need to use to use python?\": \"ipykernel\",\n",
    "    \"What command in terminal allows one to switch directory?\": \"cd\"\n",
    "}\n",
    "\n",
    "questions = len(questionsDict)\n",
    "correct = 0\n",
    "\n",
    "\n",
    "for key in questionsDict:\n",
    "    questionCount += 1\n",
    "    rsp = question_with_response(key, questionCount)\n",
    "    # compare the value from the dictionary to the user's input\n",
    "    if rsp.lower() == questionsDict[key].lower():\n",
    "        print(rsp + \" is correct! Good Job!\")\n",
    "        correct += 1\n",
    "    else:\n",
    "        print(rsp + \" is incorrect! Better Luck next time.\")\n",
    "\n",
    "print(getpass.getuser() + \" you scored \" + str(correct) +\"/\" + str(questions))\n",
    "\n",
    "\n"
   ]
  },
  {
   "cell_type": "code",
   "execution_count": 4,
   "metadata": {},
   "outputs": [
    {
     "name": "stdout",
     "output_type": "stream",
     "text": [
      "Recursive loop output\n",
      "\n",
      "John Mortensen\n",
      "\t Residence: San Diego\n",
      "\t Birth Day: October 21\n",
      "\t Cars: 2015-Fusion, 2011-Ranger, 2003-Excursion, 1997-F350, 1969-Cadillac\n",
      "\n",
      "Sunny Naidu\n",
      "\t Residence: Temecula\n",
      "\t Birth Day: August 2\n",
      "\t Cars: 4Runner\n",
      "\n",
      "Shivansh Goel\n",
      "\t Residence: San Diego\n",
      "\t Birth Day: October 29 2007\n",
      "\t Cars: Red Bugatti, Yellow Bugatti, Orange Bugatti\n",
      "\n",
      "Joe Mama\n",
      "\t Residence: New York\n",
      "\t Birth Day: July 4\n",
      "\t Cars: Lamborhini\n",
      "\n"
     ]
    }
   ],
   "source": [
    "def recursive_loop(i):\n",
    "    if i < len(InfoDb):\n",
    "        record = InfoDb[i]\n",
    "        print_data(record)\n",
    "        recursive_loop(i + 1)\n",
    "    return\n",
    "    \n",
    "print(\"Recursive loop output\\n\")\n",
    "recursive_loop(0)"
   ]
  }
 ],
 "metadata": {
  "kernelspec": {
   "display_name": "Python 3.8.10 64-bit",
   "language": "python",
   "name": "python3"
  },
  "language_info": {
   "codemirror_mode": {
    "name": "ipython",
    "version": 3
   },
   "file_extension": ".py",
   "mimetype": "text/x-python",
   "name": "python",
   "nbconvert_exporter": "python",
   "pygments_lexer": "ipython3",
   "version": "3.8.10"
  },
  "orig_nbformat": 4,
  "vscode": {
   "interpreter": {
    "hash": "916dbcbb3f70747c44a77c7bcd40155683ae19c65e1c03b4aa3499c5328201f1"
   }
  }
 },
 "nbformat": 4,
 "nbformat_minor": 2
}
