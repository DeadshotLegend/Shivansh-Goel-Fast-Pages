{
 "cells": [
  {
   "cell_type": "markdown",
   "metadata": {},
   "source": [
    "\n",
    "# This is Week 3 Hacks Python Lists"
   ]
  },
  {
   "cell_type": "code",
   "execution_count": 11,
   "metadata": {},
   "outputs": [],
   "source": [
    " #Define an empty List called InfoDb\n",
    "InfoDb = []\n",
    "\n",
    "# InfoDB is a data structure with expected Keys and Values\n",
    "\n",
    "# Append to List a Dictionary of key/values related to a person and cars\n",
    "InfoDb.append({\n",
    "    \"FirstName\": \"John\",\n",
    "    \"LastName\": \"Mortensen\",\n",
    "    \"DOB\": \"October 21\",\n",
    "    \"Residence\": \"San Diego\",\n",
    "    \"Email\": \"jmortensen@powayusd.com\",\n",
    "    \"Owns_Cars\": [\"2015-Fusion\", \"2011-Ranger\", \"2003-Excursion\", \"1997-F350\", \"1969-Cadillac\"]\n",
    "})\n",
    "\n",
    "# Append to List a 2nd Dictionary of key/values\n",
    "InfoDb.append({\n",
    "    \"FirstName\": \"Sunny\",\n",
    "    \"LastName\": \"Naidu\",\n",
    "    \"DOB\": \"August 2\",\n",
    "    \"Residence\": \"Temecula\",\n",
    "    \"Email\": \"snaidu@powayusd.com\",\n",
    "    \"Owns_Cars\": [\"4Runner\"]\n",
    "})\n",
    "\n",
    "InfoDb.append({\n",
    "    \"FirstName\": \"Shivansh\",\n",
    "    \"LastName\": \"Goel\",\n",
    "    \"DOB\": \"October 29 2007\",\n",
    "    \"Residence\": \"San Diego\",\n",
    "    \"EMail\": \"shivanshggamer@gmail.com\",\n",
    "    \"Owns_Cars\": [\"Red Bugatti\", \"Yellow Bugatti\", \"Orange Bugatti\"]\n",
    "})\n",
    "\n",
    "InfoDb.append({\n",
    "    \"FirstName\": \"Joe\",\n",
    "    \"LastName\": \"Mama\",\n",
    "    \"DOB\": \"July 4\",\n",
    "    \"Residence\": \"New York\",\n",
    "    \"Email\": \"joemama@yahoo.com\",\n",
    "    \"Owns_Cars\": [\"Lamborhini\"]\n",
    "})\n",
    "\n",
    "\n",
    "\n",
    "\n"
   ]
  },
  {
   "cell_type": "code",
   "execution_count": 12,
   "metadata": {},
   "outputs": [
    {
     "name": "stdout",
     "output_type": "stream",
     "text": [
      "For loop output\n",
      "\n",
      "John Mortensen\n",
      "\t Residence: San Diego\n",
      "\t Birth Day: October 21\n",
      "\t Cars: 2015-Fusion, 2011-Ranger, 2003-Excursion, 1997-F350, 1969-Cadillac\n",
      "\n",
      "Sunny Naidu\n",
      "\t Residence: Temecula\n",
      "\t Birth Day: August 2\n",
      "\t Cars: 4Runner\n",
      "\n",
      "Shivansh Goel\n",
      "\t Residence: San Diego\n",
      "\t Birth Day: October 29 2007\n",
      "\t Cars: Red Bugatti, Yellow Bugatti, Orange Bugatti\n",
      "\n",
      "Joe Mama\n",
      "\t Residence: New York\n",
      "\t Birth Day: July 4\n",
      "\t Cars: Lamborhini\n",
      "\n"
     ]
    }
   ],
   "source": [
    "def print_data(d_rec):\n",
    "    print(d_rec[\"FirstName\"], d_rec[\"LastName\"])  # using comma puts space between values\n",
    "    print(\"\\t\", \"Residence:\", d_rec[\"Residence\"]) # \\t is a tab indent\n",
    "    print(\"\\t\", \"Birth Day:\", d_rec[\"DOB\"])\n",
    "    print(\"\\t\", \"Cars: \", end=\"\")  # end=\"\" make sure no return occurs\n",
    "    print(\", \".join(d_rec[\"Owns_Cars\"]))  # join allows printing a string list with separator\n",
    "    print()\n",
    "\n",
    "    # Print the data structure\n",
    "def for_loop(InfoDb):\n",
    "    print(\"For loop output\\n\")\n",
    "    for record in InfoDb:\n",
    "        print_data(record)\n",
    "\n",
    "for_loop(InfoDb)"
   ]
  },
  {
   "cell_type": "code",
   "execution_count": 15,
   "metadata": {},
   "outputs": [
    {
     "name": "stdout",
     "output_type": "stream",
     "text": [
      "Hello, you will be asked 5 questions you should know.\n",
      "Question: What value is a dozen\n",
      "365 is correct\n",
      "Question: How many days are in a year\n",
      "5 is incorrect\n",
      "Question: How many years are in a decade\n",
      "5 is incorrect\n",
      "Question: How much eggs are too much\n",
      "5 is correct\n",
      "Question: What is the main measurment for distance in USA\n",
      "mile is correct\n",
      "You scored 3/5. Good Job!\n"
     ]
    }
   ],
   "source": [
    "def PythonQuiz(prompt):\n",
    "    global word\n",
    "    print (\"Question: \" + prompt)\n",
    "    word = input()\n",
    "    return word\n",
    "\n",
    "questions_number = 5\n",
    "correct_answer = 0\n",
    "\n",
    "print(\"Hello, you will be asked \" + str(questions_number) + \" questions you should know.\")\n",
    "\n",
    "TheQuiz=[]\n",
    "\n",
    "TheQuiz.append({\n",
    "    \"What value is a dozen\": \"12\",\n",
    "    \"How many days are in a year\": \"365\",\n",
    "    \"How many years are in a decade\": \"10\",\n",
    "    \"How much eggs are too much\": \"5\",\n",
    "    \"What is the main measurment for distance in USA\": \"mile\",\n",
    "})\n",
    "\n",
    "\n",
    "# for loop checks answers with the value in the dictionary\n",
    "\n",
    "for dict in TheQuiz:\n",
    "    for questions, answers in dict.items():\n",
    "        PythonQuiz(questions)\n",
    "        if word == answers:\n",
    "            print(input() + \" is correct\")\n",
    "            correct_answer += 1\n",
    "        else:\n",
    "            print(input() +\" is incorrect\")\n",
    "\n",
    "print(\"You scored \" + str(correct_answer) + \"/\" + str(questions_number) + \". Good Job!\")\n",
    "\n"
   ]
  },
  {
   "cell_type": "code",
   "execution_count": 14,
   "metadata": {},
   "outputs": [
    {
     "name": "stdout",
     "output_type": "stream",
     "text": [
      "Recursive loop output\n",
      "\n",
      "John Mortensen\n",
      "\t Residence: San Diego\n",
      "\t Birth Day: October 21\n",
      "\t Cars: 2015-Fusion, 2011-Ranger, 2003-Excursion, 1997-F350, 1969-Cadillac\n",
      "\n",
      "Sunny Naidu\n",
      "\t Residence: Temecula\n",
      "\t Birth Day: August 2\n",
      "\t Cars: 4Runner\n",
      "\n",
      "Shivansh Goel\n",
      "\t Residence: San Diego\n",
      "\t Birth Day: October 29 2007\n",
      "\t Cars: Red Bugatti, Yellow Bugatti, Orange Bugatti\n",
      "\n",
      "Joe Mama\n",
      "\t Residence: New York\n",
      "\t Birth Day: July 4\n",
      "\t Cars: Lamborhini\n",
      "\n"
     ]
    }
   ],
   "source": [
    "def recursive_loop(i):\n",
    "    if i < len(InfoDb):\n",
    "        record = InfoDb[i]\n",
    "        print_data(record)\n",
    "        recursive_loop(i + 1)\n",
    "    return\n",
    "    \n",
    "print(\"Recursive loop output\\n\")\n",
    "recursive_loop(0)"
   ]
  }
 ],
 "metadata": {
  "kernelspec": {
   "display_name": "Python 3.8.10 64-bit",
   "language": "python",
   "name": "python3"
  },
  "language_info": {
   "codemirror_mode": {
    "name": "ipython",
    "version": 3
   },
   "file_extension": ".py",
   "mimetype": "text/x-python",
   "name": "python",
   "nbconvert_exporter": "python",
   "pygments_lexer": "ipython3",
   "version": "3.8.10"
  },
  "orig_nbformat": 4,
  "vscode": {
   "interpreter": {
    "hash": "916dbcbb3f70747c44a77c7bcd40155683ae19c65e1c03b4aa3499c5328201f1"
   }
  }
 },
 "nbformat": 4,
 "nbformat_minor": 2
}
