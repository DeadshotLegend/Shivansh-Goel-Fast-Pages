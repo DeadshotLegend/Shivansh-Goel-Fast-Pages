{
 "cells": [
  {
   "cell_type": "markdown",
   "metadata": {},
   "source": [
    "### Homework For 1\n",
    "Explanation for Code:\n",
    "For the assignment code I created a list with the name of data,\n",
    "I then created a for loop for x in data, and then a nested conditional with multiple if and else statements"
   ]
  },
  {
   "cell_type": "code",
   "execution_count": 10,
   "metadata": {},
   "outputs": [
    {
     "name": "stdout",
     "output_type": "stream",
     "text": [
      "the index of 104 is 0\n",
      "the index of 101 is 1\n",
      "the index of 105 is 3\n",
      "the index of 103 is 5\n",
      "the index of 107 is 7\n",
      "the index of 106 is 10\n",
      "the index of 102 is 11\n",
      "the index of 108 is 12\n"
     ]
    }
   ],
   "source": [
    "set = [104, 101, 4, 105, 308, 103, 5, 107,\n",
    "        100, 306, 106, 102, 108]    \n",
    "# Adding the for loop after the list named set\n",
    "for num in set:\n",
    "    if num > 100:\n",
    "        if num < 200:\n",
    "            value = set.index(num)\n",
    "            print(\"the index of \" + str(num) + \" is \" + str(value))\n",
    "        else:\n",
    "            continue\n",
    "    else:\n",
    "        continue"
   ]
  },
  {
   "cell_type": "markdown",
   "metadata": {},
   "source": [
    "Explanation for Code:\n",
    "For the second part of the assingment for my hacks I did the necessary hacks and then also added some extra albums towards the end\n"
   ]
  },
  {
   "cell_type": "code",
   "execution_count": 5,
   "metadata": {},
   "outputs": [
    {
     "name": "stdout",
     "output_type": "stream",
     "text": [
      "Keeping a Rendezvous\n"
     ]
    }
   ],
   "source": [
    "albums = [\n",
    "    (\"Thriller\", \"Michael Jackson\", 1979,   \n",
    "     [\n",
    "         (1, \"Thriller\"),\n",
    "         (2, \"Based\"),\n",
    "         (3, \"Having Fun\"),\n",
    "     ]\n",
    "     ),\n",
    "    (\"Teenage Emotions\", \"Lil Yachty\", 2011,   \n",
    "     [\n",
    "         (1, \"Teenage Emotions\"),\n",
    "         (2, \"Birthday Mix\"),\n",
    "     ]\n",
    "     ),\n",
    "    (\"Birthday Mix\", \"Lil Yackty\", 2008,\n",
    "     [\n",
    "         (1, \"THe lost Files\"),\n",
    "         (2, \"The Big Boat\"),\n",
    "     ]\n",
    "     ),\n",
    "    (\"Welcome to my Nightmare\", \"Alice Cooper\", 1975,   # First album list\n",
    "     [\n",
    "         (1, \"Welcome to my Nightmare\"),\n",
    "         (2, \"Devil's Food\"),\n",
    "         (3, \"The Black Widow\"),\n",
    "         (4, \"Some Folks\"),\n",
    "         (5, \"Only Women Bleed\"),\n",
    "     ]\n",
    "     ),\n",
    "    (\"Bad Company\", \"Bad Company\", 1974,   # Second album list\n",
    "     [\n",
    "         (1, \"Can't Get Enough\"),\n",
    "         (2, \"Rock Steady\"),\n",
    "         (3, \"Ready for Love\"),\n",
    "         (4, \"Don't Let Me Down\"),\n",
    "         (5, \"Bad Company\"),\n",
    "         (6, \"The Way I Choose\"),\n",
    "         (7, \"Movin' On\"),\n",
    "         (8, \"Seagull\"),\n",
    "     ]\n",
    "     ),\n",
    "    (\"Nightflight\", \"Budgie\", 1981,\n",
    "     [\n",
    "         (1, \"I Turned to Stone\"),\n",
    "         (2, \"Keeping a Rendezvous\"),\n",
    "         (3, \"Reaper of the Glory\"),\n",
    "         (4, \"She Used Me Up\"),\n",
    "     ]\n",
    "     ),\n",
    "    (\"More Mayhem\", \"Imelda May\", 2011,\n",
    "     [\n",
    "         (1, \"Pulling the Rug\"),\n",
    "         (2, \"Psycho\"),\n",
    "         (3, \"Mayhem\"),\n",
    "         (4, \"Kentish Town Waltz\"),\n",
    "     ]\n",
    "     ),\n",
    "]\n",
    "\n",
    "album = input(\"enter an album number\")\n",
    "song = input(\"enter a song number\")\n",
    "print(albums[int(album) - 1][3][int(song) - 1][1])"
   ]
  }
 ],
 "metadata": {
  "kernelspec": {
   "display_name": "Python 3.8.10 64-bit",
   "language": "python",
   "name": "python3"
  },
  "language_info": {
   "codemirror_mode": {
    "name": "ipython",
    "version": 3
   },
   "file_extension": ".py",
   "mimetype": "text/x-python",
   "name": "python",
   "nbconvert_exporter": "python",
   "pygments_lexer": "ipython3",
   "version": "3.8.10"
  },
  "orig_nbformat": 4,
  "vscode": {
   "interpreter": {
    "hash": "916dbcbb3f70747c44a77c7bcd40155683ae19c65e1c03b4aa3499c5328201f1"
   }
  }
 },
 "nbformat": 4,
 "nbformat_minor": 2
}
