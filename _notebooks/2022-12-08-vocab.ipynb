{
 "cells": [
  {
   "cell_type": "markdown",
   "metadata": {},
   "source": [
    "- Basic:\n",
    "bits - the smallest unit of data that a computer can process and store.\n",
    "bytes - In most computer systems, a byte is a unit of data that is eight binary digits long\n",
    "hexademical - Hexadecimal is a numbering system with base 16.\n",
    "Nibbles - In computing and digital technology, a nibble is four consecutive binary digits or half of an 8-bit byte\n",
    "\n",
    "- Binary Numbers:\n",
    "Unsigned Integer - An unsigned integer is a 32-bit datum that encodes a nonnegative integer in the range [0 to 4294967295].\n",
    "\n",
    "A signed integer is a 32-bit datum that encodes an integer in the range [-2147483648 to 2147483647].\n",
    "\n",
    "Floating Point: A floating point number, is a positive or negative whole number with a decimal point. For example, 5.5, 0.25, and -103.342 are all floating point numbers, while 91, and 0 are not."
   ]
  },
  {
   "cell_type": "code",
   "execution_count": null,
   "metadata": {},
   "outputs": [],
   "source": [
    "def binary(num1, num2, num3, num4):\n",
    "    num1 = 1000000 ### Example of an unsigned integer\n",
    "    num2 = -1235 ### Example of a singed integer\n",
    "    num3 = 4.5124124 ### Example of a floating point\n",
    "    num4 = 4 ### Example of an integer (Not an example of a floating point)\n",
    "\n",
    "\n"
   ]
  },
  {
   "cell_type": "markdown",
   "metadata": {},
   "source": [
    "- Binary data Abstraction:\n",
    "Boolean: Boolean is a data type that has one of two possible values; true and false"
   ]
  },
  {
   "cell_type": "code",
   "execution_count": 3,
   "metadata": {},
   "outputs": [
    {
     "name": "stdout",
     "output_type": "stream",
     "text": [
      "True\n",
      "False\n"
     ]
    }
   ],
   "source": [
    "beta = True\n",
    "zelt = False\n",
    "\n",
    "print(beta)\n",
    "print(zelt)\n",
    "### Example of the two outputs which can be using in booleans\n"
   ]
  },
  {
   "cell_type": "markdown",
   "metadata": {},
   "source": [
    "ASCII: ASCII (American Standard Code for Information Interchange) is the most common character encoding format for text data in computers and on the internet.\n",
    "Unicode: Unicode is the universal character encoding used to process, store and facilitate the interchange of text data in any language \n",
    "RGB: RGB (red, green, and blue) refers to a system for representing the colors to be used on a computer display. \n",
    "Lossy: In lossy compression, the data in a file is removed and not restored to its original form after decompression."
   ]
  },
  {
   "cell_type": "markdown",
   "metadata": {},
   "source": [
    "### Unit 3 ... Algorithm/Programming Terms\n",
    "Variables: a value that can change, depending on conditions or on information passed to the program.\n",
    "Data Types: A data type is a classification of data which tells the compiler or interpreter how the programmer intends to use the data. Most programming languages support various types of data, including integer, real, character or string, and Boolean.\n",
    "Assignment Operations: Assignment Operations are the different mathematical operations which can be done on computer programming\n"
   ]
  },
  {
   "cell_type": "code",
   "execution_count": 19,
   "metadata": {},
   "outputs": [
    {
     "name": "stdout",
     "output_type": "stream",
     "text": [
      "1\n",
      "10\n",
      "True\n",
      "10.551234\n",
      "string\n",
      "2\n"
     ]
    }
   ],
   "source": [
    "### Example of a variable\n",
    "a = 1\n",
    "print(a)\n",
    "### Different Data Types\n",
    "y = 5>4 ### Example of a boolean\n",
    "x = 10   ### Example of an intger\n",
    "z = 10.551234 ### Example of a float\n",
    "num = \"string\" ### Example of a string\n",
    "print(x)\n",
    "print(y)\n",
    "print(z)\n",
    "print(num)\n",
    "### Assignment operations\n",
    "b = 1\n",
    "c = 2\n",
    "d = b * c ### Example of a mathermical operation where variable b and c are multiplied to each other\n",
    "print(d)\n",
    "\n"
   ]
  },
  {
   "cell_type": "markdown",
   "metadata": {},
   "source": [
    "Managing Complexity with Variables: Complexity management is the ability to analyse, review, and optimize complexity in organizations using variables, lists, and dictionaries\n",
    "lists: lists are defined with name, then can be accessed using different methods. \n",
    "dictionary: Dictionaries have a key and value pair method, with a key given and value given in the output.\n",
    "sequences: An iterable is a collection of objects where you can get each element one by one. Therefore, any sequence is iterable. For example, a list is iterable.\n",
    "Selection: allows a program to test several conditions and execute instructions based on which condition is true."
   ]
  },
  {
   "cell_type": "code",
   "execution_count": 9,
   "metadata": {},
   "outputs": [
    {
     "name": "stdout",
     "output_type": "stream",
     "text": [
      "[1, 2, 5]\n",
      "{'Nepal': 'Kathmandu', 'Italy': 'Rome', 'England': 'London'}\n",
      "3\n",
      "Subtraction is :  10\n"
     ]
    }
   ],
   "source": [
    "### Example of a list in python\n",
    "numbers = [1, 2, 5]\n",
    "\n",
    "print(numbers)\n",
    "\n",
    "### Example of a dictionary in python\n",
    "capital_city = {\"Nepal\": \"Kathmandu\", \"Italy\": \"Rome\", \"England\": \"London\"}\n",
    "print(capital_city)\n",
    "\n",
    "### Example of a sequence in python:\n",
    "cities = ['San Francisco', 'New York', 'Washington DC']\n",
    "print(len(cities))\n",
    "\n",
    "### Example of a sequential statement\n",
    " \n",
    "a=20\n",
    "b=10\n",
    "c=a-b\n",
    "print(\"Subtraction is : \",c)"
   ]
  },
  {
   "cell_type": "markdown",
   "metadata": {},
   "source": [
    "Iteration: In programming specifically, iterative refers to a sequence of instructions or code being repeated until a specific end result is achieved.\n",
    "Expression: An expression in Python is a combination of operators and operands. \n",
    "Comparision Operators: Comparision Operators are ways to compare two diffent values, mostly integers and floats.\n",
    "Booleans Expressions and Selection: A Boolean expression is a logical statement that is either TRUE or FALSE .\n",
    "Truth Tables: A truth table is a way of summarising and checking the logic of a circuit. \n",
    "String Concatenation: In formal language theory and computer programming, string concatenation is the operation of joining character strings end-to-end.\n",
    "Traversing Strings: Traversing a string means accessing all the elements of the string one after the other by using the subscript."
   ]
  },
  {
   "cell_type": "code",
   "execution_count": 16,
   "metadata": {},
   "outputs": [
    {
     "name": "stdout",
     "output_type": "stream",
     "text": [
      "foo\n",
      "bar\n",
      "baz\n",
      "True\n",
      "False\n",
      "False\n",
      "True\n",
      "True\n",
      "Python is awesome\n",
      "S h i v a n s h G o e l \n",
      "\n",
      "S\n",
      "H\n",
      "I\n",
      "V\n",
      "A\n",
      "N\n",
      "S\n",
      "H\n"
     ]
    }
   ],
   "source": [
    "### Example of iteration in python:\n",
    "a = ['foo', 'bar', 'baz']\n",
    "for i in a:\n",
    "   print(i)\n",
    "\n",
    "### Example of using operaiton operators in python:\n",
    "b = 5\n",
    "c = 6\n",
    "if(b>c):\n",
    "    print(\"False\")\n",
    "else:\n",
    "    print(\"True\")\n",
    "\n",
    "### Example of boolean expressions\n",
    "booleanex = 5>6\n",
    "print(booleanex)\n",
    "\n",
    "### Example of boolean iteration in python:\n",
    "num = [5, 6, 7]\n",
    "for i in num:\n",
    "   print(i > 5) ### This will print out for every object in num, it will check if it is greater than 5, iterate through the list then print if it is true or false\n",
    "\n",
    "### Example of String Concatenation\n",
    "x = \"Python is \"\n",
    "y = \"awesome\"\n",
    "z =  x + y\n",
    "print(z)\n",
    "\n",
    "### Example of Traversing Strings\n",
    "# Python program to iterate over characters of a string\n",
    "  \n",
    "# Code #1\n",
    "string_name = \"ShivanshGoel\"\n",
    "  \n",
    "# Iterate over the string\n",
    "for element in string_name:\n",
    "    print(element, end=' ')\n",
    "print(\"\\n\")\n",
    "  \n",
    "  \n",
    "# Code #2\n",
    "string_name = \"SHIVANSH\"\n",
    "  \n",
    "# Iterate over index\n",
    "for element in range(0, len(string_name)):\n",
    "    print(string_name[element])\n",
    "\n",
    "\n"
   ]
  },
  {
   "cell_type": "markdown",
   "metadata": {},
   "source": [
    "Python If, Else, Else if statements: The if-else statement is used to execute both the true part and the false part of a given condition. If the condition is true, the if block code is executed and if the condition is false, the else block code is executed.\n"
   ]
  },
  {
   "cell_type": "code",
   "execution_count": null,
   "metadata": {},
   "outputs": [],
   "source": [
    "### Explanation for Code: Created two function \"findMax\" and \"findMin\" with findMax printing out the larger number and \"findMin\" number\n",
    "def findMax(numA, numB):\n",
    "    if numA>numB:\n",
    "        print(numA)\n",
    "    elif numA==numB:\n",
    "        print(\"Number A is equal to Number B\")\n",
    "    else:\n",
    "        print(numB)\n",
    "result = findMax(5, 6)\n",
    "print(result)\n",
    "\n",
    "def findMin(numC, numD):\n",
    "    if numC>numD:\n",
    "        print(numD)\n",
    "    elif numC==numD:\n",
    "        print(\"Number A is equal to Number B\")\n",
    "    else:\n",
    "        print(numC)\n",
    "result = findMin(5, 6)\n",
    "\n"
   ]
  },
  {
   "cell_type": "markdown",
   "metadata": {},
   "source": [
    "Nested Conditionals: There are two main ways to make a nested if statement. The first option is to put the if statement inside an if code block. The other option is to place the if statement in the else code of an if/else statement."
   ]
  },
  {
   "cell_type": "code",
   "execution_count": 14,
   "metadata": {},
   "outputs": [
    {
     "name": "stdout",
     "output_type": "stream",
     "text": [
      "Got an order for 30 items. In stock: 32\n",
      "We need multiple packages to fulfil this order!\n"
     ]
    }
   ],
   "source": [
    "itemsOrdered = 30\n",
    "itemsInStock = 32\n",
    "\n",
    "print(\"Got an order for\", itemsOrdered, \"items. In stock:\", itemsInStock)\n",
    "\n",
    "# Compare order size against inventory\n",
    "if itemsOrdered >= itemsInStock:\n",
    "    print(\"Resupply the inventory. We're running out!\")\n",
    "else:\n",
    "    packageCount = round(itemsOrdered / 8)\n",
    "\n",
    "    if packageCount > 1:\n",
    "        print(\"We need multiple packages to fulfill this order!\")"
   ]
  },
  {
   "cell_type": "markdown",
   "metadata": {},
   "source": [
    "Python Loops: Looping means repeating something over and over until a particular condition is satisfied. A for loop in Python is a control flow statement that is used to repeatedly execute a group of statements as long as the condition is satisfied."
   ]
  },
  {
   "cell_type": "code",
   "execution_count": null,
   "metadata": {},
   "outputs": [],
   "source": [
    "### For loop in python:\n",
    "fruits = [\"apple\", \"banana\", \"cherry\"]\n",
    "for x in fruits:\n",
    "  print(x)\n",
    "  if x == \"banana\":\n",
    "    break\n",
    "\n",
    "### While loop in python:\n",
    "i = 1\n",
    "while i < 6:\n",
    "  print(i)\n",
    "  i += 1\n",
    "\n",
    "  ### "
   ]
  },
  {
   "cell_type": "markdown",
   "metadata": {},
   "source": [
    "Procedural Abstraction: Procedural abstraction is when we write code sections (called \"procedures\" or in Java, \"static methods\") which are generalised by having variable parameters.\n",
    "Procedure: is a named group of programming instructions that may have parameters and return values.\n",
    "Parameters: input values of a procedure. \n",
    "The value that a function returns to the caller is generally known as the function's return value. All Python functions have a return value, either explicit or implicit."
   ]
  },
  {
   "cell_type": "code",
   "execution_count": 17,
   "metadata": {},
   "outputs": [
    {
     "name": "stdout",
     "output_type": "stream",
     "text": [
      "Shivansh Goel\n"
     ]
    }
   ],
   "source": [
    "### Example of Def Procedures\n",
    "def my_function(fname, lname): ### Theese are the paramters \"fname\", \"lname\"\n",
    "  print(fname + \" \" + lname) \n",
    "\n",
    "my_function(\"Shivansh\", \"Goel\") ### These are the return values\n",
    "\n"
   ]
  }
 ],
 "metadata": {
  "kernelspec": {
   "display_name": "Python 3.8.10 64-bit",
   "language": "python",
   "name": "python3"
  },
  "language_info": {
   "codemirror_mode": {
    "name": "ipython",
    "version": 3
   },
   "file_extension": ".py",
   "mimetype": "text/x-python",
   "name": "python",
   "nbconvert_exporter": "python",
   "pygments_lexer": "ipython3",
   "version": "3.8.10"
  },
  "orig_nbformat": 4,
  "vscode": {
   "interpreter": {
    "hash": "916dbcbb3f70747c44a77c7bcd40155683ae19c65e1c03b4aa3499c5328201f1"
   }
  }
 },
 "nbformat": 4,
 "nbformat_minor": 2
}
