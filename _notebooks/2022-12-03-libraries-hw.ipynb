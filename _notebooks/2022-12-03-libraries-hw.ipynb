{
 "cells": [
  {
   "attachments": {},
   "cell_type": "markdown",
   "metadata": {},
   "source": [
    "# Unit 3 Sections 14-15 Homework\n",
    "> Here are the instructions for the homework for sections 14-15.\n",
    "\n",
    "- toc: true\n",
    "- comments: true\n",
    "- categories: [Week-13,Big-Idea-3]\n",
    "- image: /images/college-board-logo.png"
   ]
  },
  {
   "attachments": {},
   "cell_type": "markdown",
   "metadata": {},
   "source": [
    "Create a program that asks the user for a day and then gives them a distance in days between that day and another random day in the year. We have provided you with a possible starter, but you are welcome to change it up if you would like."
   ]
  },
  {
   "cell_type": "code",
   "execution_count": 1,
   "metadata": {},
   "outputs": [
    {
     "ename": "TypeError",
     "evalue": "'dict' object is not callable",
     "output_type": "error",
     "traceback": [
      "\u001b[0;31m---------------------------------------------------------------------------\u001b[0m",
      "\u001b[0;31mTypeError\u001b[0m                                 Traceback (most recent call last)",
      "Cell \u001b[0;32mIn[1], line 19\u001b[0m\n\u001b[1;32m      2\u001b[0m \u001b[39mimport\u001b[39;00m \u001b[39mrandom\u001b[39;00m\n\u001b[1;32m      4\u001b[0m days_dictionary \u001b[39m=\u001b[39m {\n\u001b[1;32m      5\u001b[0m     \u001b[39m1\u001b[39m: \u001b[39m31\u001b[39m,\n\u001b[1;32m      6\u001b[0m     \u001b[39m2\u001b[39m: \u001b[39m28\u001b[39m,\n\u001b[0;32m   (...)\u001b[0m\n\u001b[1;32m     16\u001b[0m     \u001b[39m12\u001b[39m: \u001b[39m31\u001b[39m,\n\u001b[1;32m     17\u001b[0m }\n\u001b[0;32m---> 19\u001b[0m day \u001b[39m=\u001b[39m days_dictionary(\u001b[39m1\u001b[39;49m)\n\u001b[1;32m     20\u001b[0m \u001b[39mprint\u001b[39m(day)\n\u001b[1;32m     21\u001b[0m \u001b[39m# expected output shown below (or something similar)\u001b[39;00m\n",
      "\u001b[0;31mTypeError\u001b[0m: 'dict' object is not callable"
     ]
    }
   ],
   "source": [
    "from datetime import date\n",
    "import random\n",
    "\n",
    "days_dictionary = {\n",
    "    1: 31,\n",
    "    2: 28,\n",
    "    3: 31,\n",
    "    4: 30,\n",
    "    5: 31,\n",
    "    6: 30,\n",
    "    7: 31,\n",
    "    8: 31,\n",
    "    9: 30,\n",
    "    10: 31,\n",
    "    11: 30,\n",
    "    12: 31,\n",
    "}\n",
    "\n",
    "day = days_dictionary(1)\n",
    "print(day)\n",
    "# expected output shown below (or something similar)"
   ]
  }
 ],
 "metadata": {
  "kernelspec": {
   "display_name": "Python 3.8.10 64-bit",
   "language": "python",
   "name": "python3"
  },
  "language_info": {
   "codemirror_mode": {
    "name": "ipython",
    "version": 3
   },
   "file_extension": ".py",
   "mimetype": "text/x-python",
   "name": "python",
   "nbconvert_exporter": "python",
   "pygments_lexer": "ipython3",
   "version": "3.8.10"
  },
  "orig_nbformat": 4,
  "vscode": {
   "interpreter": {
    "hash": "916dbcbb3f70747c44a77c7bcd40155683ae19c65e1c03b4aa3499c5328201f1"
   }
  }
 },
 "nbformat": 4,
 "nbformat_minor": 2
}
