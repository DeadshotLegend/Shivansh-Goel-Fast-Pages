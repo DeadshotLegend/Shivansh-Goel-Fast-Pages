{
 "cells": [
  {
   "cell_type": "markdown",
   "metadata": {},
   "source": [
    "# Shivansh's Bash Tutorial Hacks\n",
    "> In my bash hacks, I will setup my github project local folders and keep it synchronized with github. I will also verify my environment is setup correctly with all tools and kernels present.\n",
    "- toc: true\n",
    "- categories: [bash]"
   ]
  },
  {
   "cell_type": "markdown",
   "metadata": {},
   "source": [
    "### Setup project local folders\n",
    "- Create / verify local folders exist\n",
    "- Clone / update github repository"
   ]
  },
  {
   "cell_type": "code",
   "execution_count": 3,
   "metadata": {
    "vscode": {
     "languageId": "shellscript"
    }
   },
   "outputs": [
    {
     "name": "stdout",
     "output_type": "stream",
     "text": [
      "Setting up local folders\n",
      "Directory /home/shivansh/vscode_shivansh exists.\n",
      "Git Project directory /home/shivansh/vscode_shivansh/Shivansh-Goel-Fast-Pages exists... pulling https://github.com/deadshotlegend/Shivansh-Goel-Fast-Pages.git\n",
      "From https://github.com/deadshotlegend/Shivansh-Goel-Fast-Pages\n",
      " * branch            master     -> FETCH_HEAD\n",
      "Already up to date.\n",
      "https://github.com/deadshotlegend/Shivansh-Goel-Fast-Pages.git successfully updated from origin\n",
      "Project directory /home/shivansh/vscode_shivansh/Shivansh-Goel-Fast-Pages successfuly cloned / updated.\n"
     ]
    }
   ],
   "source": [
    "echo \"Setting up local folders\"\n",
    "export project_dir=$HOME/vscode_shivansh  # setting local project folders in vscode_shivansh\n",
    "export project=$project_dir/Shivansh-Goel-Fast-Pages  # my git repository will be cloned here\n",
    "export project_repo=\"https://github.com/deadshotlegend/Shivansh-Goel-Fast-Pages.git\"  # my project\n",
    "\n",
    "cd ~    # start in home directory\n",
    "\n",
    "# Check if project directory exists. If not, create one\n",
    "if [ ! -d $project_dir ]\n",
    "then \n",
    "    echo \"Directory $project_dir does not exists... making directory $project_dir\"\n",
    "    mkdir -p $project_dir\n",
    "fi\n",
    "echo \"Directory $project_dir exists.\" \n",
    "\n",
    "# Check if the project directory exists. If exists, then the project was cloned before, and hence\n",
    "# need to updated. If not exists, then the project hasn't been cloned yet, and I must clone now\n",
    "if [ ! -d $project ]\n",
    "then\n",
    "    echo \"Git Project directory $project does not exists... cloning $project_repo\"\n",
    "    cd $project_dir\n",
    "    git clone $project_repo\n",
    "    cd ~\n",
    "else\n",
    "    echo \"Git Project directory $project exists... pulling $project_repo\"\n",
    "    cd $project\n",
    "    git pull origin master\n",
    "    echo \"$project_repo successfully updated from origin\"\n",
    "    cd ~\n",
    "fi\n",
    "echo \"Project directory $project successfuly cloned / updated.\" \n"
   ]
  },
  {
   "cell_type": "markdown",
   "metadata": {},
   "source": [
    "### Validate necessary kernels exists\n",
    "- Javascript\n",
    "- Bash\n",
    "- Python3"
   ]
  },
  {
   "cell_type": "code",
   "execution_count": 4,
   "metadata": {
    "vscode": {
     "languageId": "shellscript"
    }
   },
   "outputs": [
    {
     "name": "stdout",
     "output_type": "stream",
     "text": [
      "Python Kernel Exists at /home/shivansh/.local/share/jupyter/kernels/python3\n",
      "Bash Kernel Exists at /home/shivansh/.local/share/jupyter/kernels/bash\n",
      "Javascript Kernel Exists at /home/shivansh/.local/share/jupyter/kernels/javascript\n"
     ]
    }
   ],
   "source": [
    "jupyter kernelspec list > /tmp/kernellist.txt\n",
    "\n",
    "python_exists=`awk '$1 == \"python3\" { print $2 }' /tmp/kernellist.txt`\n",
    "if [ \"\" != $python_exists ]\n",
    "then\n",
    "        echo \"Python Kernel Exists at $python_exists\"\n",
    "else\n",
    "        echo \"Python Kernel Does Not Exist\"\n",
    "fi\n",
    "\n",
    "bash_exists=`awk '$1 == \"bash\" { print $2 }' /tmp/kernellist.txt`\n",
    "if [ \"\" != $bash_exists ]\n",
    "then\n",
    "        echo \"Bash Kernel Exists at $bash_exists\"\n",
    "else\n",
    "        echo \"Bash Kernel Does Not Exist\"\n",
    "fi\n",
    "\n",
    "javascript_exists=`awk '$1 == \"javascript\" { print $2 }' /tmp/kernellist.txt`\n",
    "if [ \"\" != $javascript_exists ]\n",
    "then\n",
    "        echo \"Javascript Kernel Exists at $javascript_exists\"\n",
    "else\n",
    "        echo \"Javascript Kernel Does Not Exist\"\n",
    "fi"
   ]
  },
  {
   "cell_type": "markdown",
   "metadata": {},
   "source": [
    "### Validate necessary packages exist\n",
    "- python\n",
    "- ipykernel\n",
    "- bash-kernel\n",
    "- jupyter\n",
    "- more can be added to package_to_validate in script below"
   ]
  },
  {
   "cell_type": "code",
   "execution_count": 2,
   "metadata": {
    "vscode": {
     "languageId": "shellscript"
    }
   },
   "outputs": [
    {
     "name": "stdout",
     "output_type": "stream",
     "text": [
      "python installed with version 3.9.12\n",
      "ipykernel installed with version 6.9.1\n",
      "bash-kernel installed with version 0.8.0\n",
      "jupyter installed with version 1.0.0\n"
     ]
    }
   ],
   "source": [
    "package_list=/tmp/packagelist.txt\n",
    "if [[ ! -f $package_list ]]\n",
    "then\n",
    "        conda list -n base > $package_list\n",
    "fi\n",
    "\n",
    "package_to_validate=(python ipykernel bash-kernel jupyter)\n",
    "\n",
    "for pname in \"${package_to_validate[@]}\"\n",
    "do\n",
    "        p_ver=`awk '$1 == pname { print $2 }' pname=$pname /tmp/packagelist.txt`\n",
    "\n",
    "        if [ \"$p_ver\" == \"\" ]\n",
    "        then\n",
    "                        echo \"$pname not installed\"\n",
    "        else\n",
    "                        echo \"$pname installed with version $p_ver\"\n",
    "        fi\n",
    "done"
   ]
  }
 ],
 "metadata": {
  "kernelspec": {
   "display_name": "Bash",
   "language": "bash",
   "name": "bash"
  },
  "language_info": {
   "codemirror_mode": "shell",
   "file_extension": ".sh",
   "mimetype": "text/x-sh",
   "name": "bash"
  },
  "orig_nbformat": 4,
  "vscode": {
   "interpreter": {
    "hash": "916dbcbb3f70747c44a77c7bcd40155683ae19c65e1c03b4aa3499c5328201f1"
   }
  }
 },
 "nbformat": 4,
 "nbformat_minor": 2
}
