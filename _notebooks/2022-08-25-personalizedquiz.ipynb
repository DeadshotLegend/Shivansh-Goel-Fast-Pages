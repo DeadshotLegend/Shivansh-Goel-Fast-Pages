{
 "cells": [
  {
   "cell_type": "markdown",
   "metadata": {},
   "source": [
    "---\n",
    "categories: [Notebooks]\n",
    "title: Personalized Quiz\n",
    "description: Week 2 - Python Hacks\n",
    "---\n",
    "# This is the personalized quiz for Week 2 Hacks\n",
    "\n"
   ]
  },
  {
   "cell_type": "markdown",
   "metadata": {},
   "source": [
    "## My Hacks\n",
    "- I have removed the repeating questions and anwers with a iterative contruct using dictionaries\n",
    "- Added more questions of my own and also calculated a percentage at the end.\n",
    "- Lastly, I have made the answer check case insensitive."
   ]
  },
  {
   "cell_type": "code",
   "execution_count": 10,
   "metadata": {},
   "outputs": [
    {
     "name": "stdout",
     "output_type": "stream",
     "text": [
      "Hello, shivansh running /bin/python3\n",
      "You will be asked 7 questions.\n",
      "Are you ready to take a test! Press Enter key to begin. Best of luck :)\n",
      "Question 1 : What command is used to include other functions that were previously developed?\n",
      "import is correct! Good Job!\n",
      "Question 2 : What command in this example is used to evaluate a response?\n",
      "if is correct! Good Job!\n",
      "Question 3 : Each 'if' command contains an '_________' to determine a true or false condition?\n",
      "expression is correct! Good Job!\n",
      "Question 4 : What does Jupyter Notebooks use?\n",
      "python is correct! Good Job!\n",
      "Question 5 : What is the end of the file name of Mark Down Post?\n",
      ".md is correct! Good Job!\n",
      "Question 6 : What kernel does one need to use to use python?\n",
      "ipykernel is correct! Good Job!\n",
      "Question 7 : What command in terminal allows one to switch directory?\n",
      "cd is correct! Good Job!\n",
      "shivansh you scored 7/7\n",
      "Total Percentage: 100.00%\n"
     ]
    }
   ],
   "source": [
    "import getpass, sys\n",
    "\n",
    "# method to display question and get user's answers\n",
    "def question_with_response(prompt, qCount):\n",
    "    print(\"Question \" + str(qCount)  + \" : \" + prompt)\n",
    "    msg = input()\n",
    "    return msg\n",
    "\n",
    "# dictionary to hold questions and answers as key : value pairs\n",
    "questionsDict = {\"What command is used to include other functions that were previously developed?\": \"import\",\n",
    "    \"What command in this example is used to evaluate a response?\": \"if\", \n",
    "    \"Each 'if' command contains an '_________' to determine a true or false condition?\": \"expression\",\n",
    "    \"What does Jupyter Notebooks use?\": \"python\",\n",
    "    \"What is the end of the file name of Mark Down Post?\": \".md\",\n",
    "    \"What kernel does one need to use to use python?\": \"ipykernel\",\n",
    "    \"What command in terminal allows one to switch directory?\": \"cd\"\n",
    "}\n",
    "\n",
    "# number of questions as length of the dictionary\n",
    "questions = len(questionsDict)\n",
    "\n",
    "# set correct to 0\n",
    "correct = 0\n",
    "\n",
    "\n",
    "print('Hello, ' + getpass.getuser() + \" running \" + sys.executable)\n",
    "print(\"You will be asked \" + str(questions) + \" questions.\")\n",
    "print(\"Are you ready to take a test! Press Enter key to begin. Best of luck :)\")\n",
    "input()\n",
    "\n",
    "questionCount = 0\n",
    "# iterate over list of keys from the dictionary. pass dictionary key as question to the question_with_response function\n",
    "for key in questionsDict:\n",
    "    questionCount += 1\n",
    "    rsp = question_with_response(key, questionCount)\n",
    "    # compare the value from the dictionary to the user's input\n",
    "    if rsp.lower() == questionsDict[key].lower():\n",
    "        print(rsp + \" is correct! Good Job!\")\n",
    "        correct += 1\n",
    "    else:\n",
    "        print(rsp + \" is incorrect! Better Luck next time.\")\n",
    "\n",
    "# print final score    \n",
    "print(getpass.getuser() + \" you scored \" + str(correct) +\"/\" + str(questions))\n",
    "\n",
    "# calculate percentage\n",
    "page = correct/questions * 100\n",
    "\n",
    "# print percentage\n",
    "\n",
    "\n",
    "print(\"Total Percentage: \" + str (format(page,\".2f\")) + \"%\")"
   ]
  }
 ],
 "metadata": {
  "kernelspec": {
   "display_name": "Python 3.8.10 64-bit",
   "language": "python",
   "name": "python3"
  },
  "language_info": {
   "codemirror_mode": {
    "name": "ipython",
    "version": 3
   },
   "file_extension": ".py",
   "mimetype": "text/x-python",
   "name": "python",
   "nbconvert_exporter": "python",
   "pygments_lexer": "ipython3",
   "version": "3.8.10"
  },
  "orig_nbformat": 4,
  "vscode": {
   "interpreter": {
    "hash": "916dbcbb3f70747c44a77c7bcd40155683ae19c65e1c03b4aa3499c5328201f1"
   }
  }
 },
 "nbformat": 4,
 "nbformat_minor": 2
}
