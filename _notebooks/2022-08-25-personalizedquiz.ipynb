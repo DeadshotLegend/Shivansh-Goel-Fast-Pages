{
 "cells": [
  {
   "cell_type": "markdown",
   "metadata": {},
   "source": [
    "# This is the personalized quiz for Week 2 Hacks\n",
    "## My Hacks\n",
    "- I have removed the repeating questions and anwers with a iterative contruct using dictionaries\n",
    "- Added more questions of my own and also calculated a percentage at the end.\n",
    "- Lastly, I have made the answer check case insensitive."
   ]
  },
  {
   "cell_type": "code",
   "execution_count": 5,
   "metadata": {},
   "outputs": [
    {
     "name": "stdout",
     "output_type": "stream",
     "text": [
      "Hello, shivansh running /bin/python3\n",
      "You will be asked 7 questions.\n",
      "Are you ready to take a test! Press Enter key to begin. Best of luck :)\n",
      "Question: What command is used to include other functions that were previously developed?\n",
      "import is correct!\n",
      "Question: What command in this example is used to evaluate a response?\n",
      "if is correct!\n",
      "Question: Each 'if' command contains an '_________' to determine a true or false condition?\n",
      "expression is correct!\n",
      "Question: What does Jupyter Notebooks use\n",
      "Python is incorrect!\n",
      "Question: What is the end of the file name of Mark Down Post\n",
      "md is incorrect!\n",
      "Question: What kernel does one need to use to use python\n",
      "ipykernel is correct!\n",
      "Question: What command in terminal allows one to switch directort\n",
      "cd is correct!\n",
      "shivansh you scored 5/7\n",
      "Total Percentage: 71.43%\n"
     ]
    }
   ],
   "source": [
    "import getpass, sys\n",
    "\n",
    "def question_with_response(prompt):\n",
    "    print(\"Question: \" + prompt)\n",
    "    msg = input()\n",
    "    return msg\n",
    "\n",
    "questionsDict = {\"What command is used to include other functions that were previously developed?\": \"import\",\n",
    "    \"What command in this example is used to evaluate a response?\": \"if\", \n",
    "    \"Each 'if' command contains an '_________' to determine a true or false condition?\": \"expression\",\n",
    "    \"What does Jupyter Notebooks use\": \"python\",\n",
    "    \"What is the end of the file name of Mark Down Post\": \".md\",\n",
    "    \"What kernel does one need to use to use python\": \"ipykernel\",\n",
    "    \"What command in terminal allows one to switch directort\": \"cd\"\n",
    "}\n",
    "questions = len(questionsDict)\n",
    "correct = 0\n",
    "\n",
    "\n",
    "print('Hello, ' + getpass.getuser() + \" running \" + sys.executable)\n",
    "print(\"You will be asked \" + str(questions) + \" questions.\")\n",
    "print(\"Are you ready to take a test! Press Enter key to begin. Best of luck :)\")\n",
    "input()\n",
    "\n",
    "for key in questionsDict:\n",
    "    rsp = question_with_response(key)\n",
    "    if rsp.lower() == questionsDict[key].lower():\n",
    "        print(rsp + \" is correct! Good Job!\")\n",
    "        correct += 1\n",
    "    else:\n",
    "        print(rsp + \" is incorrect! Better Luck next time.\")\n",
    "    \n",
    "print(getpass.getuser() + \" you scored \" + str(correct) +\"/\" + str(questions))\n",
    "page = correct/questions * 100\n",
    "print(\"Total Percentage: \" + str (format(page,\".2f\")) + \"%\")"
   ]
  }
 ],
 "metadata": {
  "kernelspec": {
   "display_name": "Python 3.8.10 64-bit",
   "language": "python",
   "name": "python3"
  },
  "language_info": {
   "codemirror_mode": {
    "name": "ipython",
    "version": 3
   },
   "file_extension": ".py",
   "mimetype": "text/x-python",
   "name": "python",
   "nbconvert_exporter": "python",
   "pygments_lexer": "ipython3",
   "version": "3.8.10"
  },
  "orig_nbformat": 4,
  "vscode": {
   "interpreter": {
    "hash": "916dbcbb3f70747c44a77c7bcd40155683ae19c65e1c03b4aa3499c5328201f1"
   }
  }
 },
 "nbformat": 4,
 "nbformat_minor": 2
}
