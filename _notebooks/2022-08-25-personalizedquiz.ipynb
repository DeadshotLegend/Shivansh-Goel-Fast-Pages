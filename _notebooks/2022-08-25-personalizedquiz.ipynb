{
 "cells": [
  {
   "cell_type": "code",
   "execution_count": null,
   "metadata": {},
   "outputs": [],
   "source": []
  }
 ],
 "metadata": {
  "kernelspec": {
   "display_name": "Python 3.10.6 64-bit (windows store)",
   "language": "python",
   "name": "python3"
  },
  "language_info": {
   "name": "python",
   "version": "3.10.6"
  },
  "orig_nbformat": 4,
  "vscode": {
   "interpreter": {
    "hash": "39548994e773d44d4cb539276a6c6eca4a19537734af13161c36d110eaabc55f"
   }
  }
 },
 "nbformat": 4,
 "nbformat_minor": 2
}
