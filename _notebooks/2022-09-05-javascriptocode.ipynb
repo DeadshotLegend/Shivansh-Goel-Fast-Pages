{
 "cells": [
  {
   "cell_type": "markdown",
   "metadata": {},
   "source": [
    "# Javascript - Week 5 Hacks\n",
    "- categories: [bash, Week 5]"
   ]
  },
  {
   "cell_type": "code",
   "execution_count": 212,
   "metadata": {
    "vscode": {
     "languageId": "javascript"
    }
   },
   "outputs": [
    {
     "name": "stdout",
     "output_type": "stream",
     "text": [
      "object ; Contender {\n",
      "  name: 'Dolphins',\n",
      "  money: '10.1B',\n",
      "  championships: 1000,\n",
      "  role: '' }\n",
      "string ; {\"name\":\"Dolphins\",\"money\":\"10.1B\",\"championships\":1000,\"role\":\"\"}\n",
      "object ; Contender {\n",
      "  name: 'Dolphins',\n",
      "  money: '10.1B',\n",
      "  championships: 1000,\n",
      "  role: 'ultimatechampion' }\n",
      "string ; {\"name\":\"Dolphins\",\"money\":\"10.1B\",\"championships\":1000,\"role\":\"ultimatechampion\"}\n"
     ]
    }
   ],
   "source": [
    "// define a function to hold data for a Contender\n",
    "function Contender(name, money, championships) {\n",
    "    this.name = name;\n",
    "    this.money = money;\n",
    "    this.championships = championships;\n",
    "    this.role = \"\";\n",
    "}\n",
    "\n",
    "// define a setter for role in Contender data\n",
    "Contender.prototype.setRole = function(role) {\n",
    "    this.role = role;\n",
    "}\n",
    "\n",
    "// define a JSON conversion \"method\" associated with Contender\n",
    "Contender.prototype.toJSON = function() {\n",
    "    const obj = {name: this.name, money: this.money, championships: this.championships, role: this.role};\n",
    "    const json = JSON.stringify(obj);\n",
    "    return json;\n",
    "}\n",
    "\n",
    "// make a new Contender and assign to variable ultimatechampion\n",
    "var ultimatechampion = new Contender(\"Dolphins\", \"10.1B\", 1000);  // object type is easy to work with in JavaScript\n",
    "logItType(ultimatechampion);  // before role\n",
    "logItType(ultimatechampion.toJSON());  \n",
    "\n",
    "ultimatechampion.setRole(\"ultimatechampion\");  \n",
    "logItType(ultimatechampion); \n",
    "logItType(ultimatechampion.toJSON());"
   ]
  },
  {
   "cell_type": "code",
   "execution_count": 210,
   "metadata": {
    "vscode": {
     "languageId": "javascript"
    }
   },
   "outputs": [
    {
     "name": "stdout",
     "output_type": "stream",
     "text": [
      "object ; [ Contender {\n",
      "    name: 'Dolphins',\n",
      "    money: '10.1B',\n",
      "    championships: 1000,\n",
      "    role: 'ultimatechampion' },\n",
      "  Contender {\n",
      "    name: 'Cheifs',\n",
      "    money: '5.4B',\n",
      "    championships: 2019,\n",
      "    role: 'Student' },\n",
      "  Contender {\n",
      "    name: 'Packers',\n",
      "    money: '4.1B',\n",
      "    championships: 2008,\n",
      "    role: 'Student' },\n",
      "  Contender {\n",
      "    name: 'Warriors',\n",
      "    money: '5.2B',\n",
      "    championships: 20122,\n",
      "    role: 'Student' },\n",
      "  Contender {\n",
      "    name: 'Bears',\n",
      "    money: '3.4B',\n",
      "    championships: 2014,\n",
      "    role: 'Student' },\n",
      "  Contender {\n",
      "    name: 'Ravens',\n",
      "    money: '1.7B',\n",
      "    championships: 1995,\n",
      "    role: 'Student' },\n",
      "  Contender {\n",
      "    name: 'Bengals',\n",
      "    money: '2.7B',\n",
      "    championships: 2021,\n",
      "    role: 'Student' } ]\n",
      "string ; Dolphins\n",
      "string ; {\"name\":\"Dolphins\",\"money\":\"10.1B\",\"championships\":1000,\"role\":\"ultimatechampion\"}\n",
      "object ; { name: 'Dolphins',\n",
      "  money: '10.1B',\n",
      "  championships: 1000,\n",
      "  role: 'ultimatechampion' }\n"
     ]
    }
   ],
   "source": [
    "var poverty = [ \n",
    "    new Contender(\"Cheifs\", \"5.4B\", 2019),\n",
    "    new Contender(\"Packers\", \"4.1B\", 2008),\n",
    "    new Contender(\"Warriors\", \"5.2B\", 20122),\n",
    "    new Contender(\"Bears\", \"3.4B\", 2014),\n",
    "    new Contender(\"Ravens\", \"1.7B\", 1995),\n",
    "    new Contender(\"Bengals\", \"2.7B\", 2021)\n",
    "];\n",
    "\n",
    "function League(ultimatechampion, poverty){ \n",
    "    ultimatechampion.setRole(\"ultimatechampion\");\n",
    "    this.ultimatechampion = ultimatechampion;\n",
    "    this.League = [ultimatechampion];\n",
    "    this.poverty = poverty;\n",
    "    this.poverty.forEach(student => { student.setRole(\"Student\"); this.League.push(student); });\n",
    "    this.json = [];\n",
    "    this.League.forEach(Contender => this.json.push(Contender.toJSON()));\n",
    "}\n",
    "\n",
    "compsci = new League(ultimatechampion, poverty);\n",
    "\n",
    "logItType(compsci.League);  \n",
    "logItType(compsci.League[0].name);  \n",
    "logItType(compsci.json[0]);  \n",
    "logItType(JSON.parse(compsci.json[0]));  "
   ]
  },
  {
   "cell_type": "code",
   "execution_count": 211,
   "metadata": {
    "vscode": {
     "languageId": "javascript"
    }
   },
   "outputs": [
    {
     "data": {
      "text/html": [
       "<div style='display:inline-block;background:black;border: 2px solid grey;box-shadow: 0.8em 0.4em 0.4em grey;'><table><tr><th><mark>Name</mark></th><th><mark>Money</mark></th><th><mark>Championships</mark></th></tr><tr><td>Dolphins</td><td>10.1B</td><td>1000</td><tr><tr><td>Cheifs</td><td>5.4B</td><td>2019</td><tr><tr><td>Packers</td><td>4.1B</td><td>2008</td><tr><tr><td>Warriors</td><td>5.2B</td><td>20122</td><tr><tr><td>Bears</td><td>3.4B</td><td>2014</td><tr><tr><td>Ravens</td><td>1.7B</td><td>1995</td><tr><tr><td>Bengals</td><td>2.7B</td><td>2021</td><tr></table></div>"
      ]
     },
     "execution_count": 211,
     "metadata": {},
     "output_type": "execute_result"
    }
   ],
   "source": [
    "League.prototype._toHtml = function() {\n",
    "  var style = (\n",
    "    \"display:inline-block;\" +\n",
    "    \"background:black;\" +\n",
    "    \"border: 2px solid grey;\" +\n",
    "    \"box-shadow: 0.8em 0.4em 0.4em grey;\"\n",
    "  );\n",
    "\n",
    "  var body = \"\";\n",
    "  body += \"<tr>\";\n",
    "  body += \"<th><mark>\" + \"Name\" + \"</mark></th>\";\n",
    "  body += \"<th><mark>\" + \"Money\" + \"</mark></th>\";\n",
    "  body += \"<th><mark>\" + \"Championships\" + \"</mark></th>\";\n",
    "  body += \"</tr>\";\n",
    "  for (var row of compsci.League) {\n",
    "    body += \"<tr>\";\n",
    "    body += \"<td>\" + row.name + \"</td>\";\n",
    "    body += \"<td>\" + row.money + \"</td>\";\n",
    "    body += \"<td>\" + row.championships + \"</td>\";\n",
    "    body += \"<tr>\";\n",
    "  }\n",
    "\n",
    "  return (\n",
    "    \"<div style='\" + style + \"'>\" +\n",
    "      \"<table>\" +\n",
    "        body +\n",
    "      \"</table>\" +\n",
    "    \"</div>\"\n",
    "  );\n",
    "\n",
    "};\n",
    "\n",
    "$$.html(compsci._toHtml());"
   ]
  },
  {
   "cell_type": "code",
   "execution_count": 1,
   "metadata": {},
   "outputs": [
    {
     "name": "stdout",
     "output_type": "stream",
     "text": [
      "Hello, shivansh running /home/shivansh/anaconda3/bin/python\n",
      "You will be asked 6 questions.\n",
      "Are you ready to take a test! Press Enter key to begin. Best of luck :)\n",
      "Question 1 : How much money does the Chiefs have\n",
      "4.3 is incorrect! Better Luck next time.\n",
      "Question 2 : How much money does the Packers have\n",
      "4.1 is incorrect! Better Luck next time.\n",
      "Question 3 : How much money does the warriors have?\n",
      "5.2B is correct! Good Job!\n",
      "Question 4 : How much money does the Bears have? \n",
      "8B is incorrect! Better Luck next time.\n",
      "Question 5 : How much money does the Ravens have?\n",
      "1.7B is correct! Good Job!\n",
      "Question 6 : How much money does the Bengals have?\n",
      "2.7B is correct! Good Job!\n",
      "shivansh you scored 3/6\n",
      "Total Percentage: 50.00%\n"
     ]
    }
   ],
   "source": [
    "import getpass, sys\n",
    "\n",
    "# method to display question and get user's answers\n",
    "def question_with_response(prompt, qCount):\n",
    "    print(\"Question \" + str(qCount)  + \" : \" + prompt)\n",
    "    msg = input()\n",
    "    return msg\n",
    "\n",
    "# dictionary to hold questions and answers as key : value pairs\n",
    "questionsDict = {\"How much money does the Chiefs have\": \"10.1B\",\n",
    "    \"How much money does the Chiefs have\": \"5.4B\", \n",
    "    \"How much money does the Packers have\": \"4.1B\",\n",
    "    \"How much money does the warriors have?\": \"5.2B\",\n",
    "    \"How much money does the Bears have? \": \"3.4B\",\n",
    "    \"How much money does the Ravens have?\": \"1.7B\",\n",
    "    \"How much money does the Bengals have?\": \"2.7B\"\n",
    "}\n",
    "\n",
    "# number of questions as length of the dictionary\n",
    "questions = len(questionsDict)\n",
    "\n",
    "# set correct to 0\n",
    "correct = 0\n",
    "\n",
    "\n",
    "print('Hello, ' + getpass.getuser() + \" running \" + sys.executable)\n",
    "print(\"You will be asked \" + str(questions) + \" questions.\")\n",
    "print(\"Are you ready to take a test! Press Enter key to begin. Best of luck :)\")\n",
    "input()\n",
    "\n",
    "questionCount = 0\n",
    "# iterate over list of keys from the dictionary. pass dictionary key as question to the question_with_response function\n",
    "for key in questionsDict:\n",
    "    questionCount += 1\n",
    "    rsp = question_with_response(key, questionCount)\n",
    "    # compare the value from the dictionary to the user's input\n",
    "    if rsp.lower() == questionsDict[key].lower():\n",
    "        print(rsp + \" is correct! Good Job!\")\n",
    "        correct += 1\n",
    "    else:\n",
    "        print(rsp + \" is incorrect! Better Luck next time.\")\n",
    "\n",
    "# print final score    \n",
    "print(getpass.getuser() + \" you scored \" + str(correct) +\"/\" + str(questions))\n",
    "\n",
    "# calculate percentage\n",
    "page = correct/questions * 100\n",
    "\n",
    "# print percentage\n",
    "\n",
    "\n",
    "print(\"Total Percentage: \" + str (format(page,\".2f\")) + \"%\")"
   ]
  }
 ],
 "metadata": {
  "kernelspec": {
   "display_name": "Python 3.9.12 ('base')",
   "language": "python",
   "name": "python3"
  },
  "language_info": {
   "codemirror_mode": {
    "name": "ipython",
    "version": 3
   },
   "file_extension": ".py",
   "mimetype": "text/x-python",
   "name": "python",
   "nbconvert_exporter": "python",
   "pygments_lexer": "ipython3",
   "version": "3.9.12"
  },
  "orig_nbformat": 4,
  "vscode": {
   "interpreter": {
    "hash": "2c7ffa9c538f0bfb5740c89a215bcbde02033924243f3d233f0c9916449df403"
   }
  }
 },
 "nbformat": 4,
 "nbformat_minor": 2
}
