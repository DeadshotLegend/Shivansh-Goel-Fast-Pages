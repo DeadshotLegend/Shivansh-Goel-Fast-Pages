{
 "cells": [
  {
   "cell_type": "markdown",
   "metadata": {},
   "source": [
    "# Preformance Task \n",
    "> Here is the basic overview of the preformance task\n",
    "- toc: true\n",
    "- categories: [bash, Week 3]\n",
    "### Firts thoughts and brainstorm\n",
    "\n",
    "- My partner and I figured out that we want to create a web page where we can quiz people or take insight on what other people have to say.\n",
    "- What we can start right now is setting up python code for interactive stuff we will have on the web page\n",
    "- We can also start creating html and markdown pages which will be very helpful for the use in the webpages\n",
    "- We can also start creating tags and links to make the webpage more operatable\n",
    "\n",
    "### Purpose and Function\n",
    "- I would create a quiz which would help with interactivity and create it with python code\n",
    "- The web pages would be created through html codes\n",
    "\n",
    "### Data Abstraction\n",
    "- Creating python lists and dictionaries\n",
    "- Store into a list QuizDb and then append later on\n",
    "- At leat 10 keys will be used in this quiz\n",
    "\n",
    "### Managing complexity\n",
    "- Explaining the data abstraction complexity through showing the code in python\n",
    "- \n",
    "\n",
    "### Procedural Abstraction\n",
    "- I will do this by implementing a fast page with tags and links\n",
    "- There will also be use of notebooks and markdown files\n",
    "\n",
    "### Algorithm Implementation\n",
    "- I will use sequencing and loops for algorithm implementation\n",
    "- The for loop will monitor the answers and give seperate keys for each differnet type of answer\n",
    "\n",
    "### Testing\n",
    "- I will test it on the data recieved from te quizes\n",
    "- The algorithm implementation will help with monitoring the data and organize it into usable data.\n"
   ]
  },
  {
   "cell_type": "code",
   "execution_count": null,
   "metadata": {},
   "outputs": [],
   "source": []
  }
 ],
 "metadata": {
  "kernelspec": {
   "display_name": "Python 3.8.10 64-bit",
   "language": "python",
   "name": "python3"
  },
  "language_info": {
   "name": "python",
   "version": "3.8.10"
  },
  "orig_nbformat": 4,
  "vscode": {
   "interpreter": {
    "hash": "916dbcbb3f70747c44a77c7bcd40155683ae19c65e1c03b4aa3499c5328201f1"
   }
  }
 },
 "nbformat": 4,
 "nbformat_minor": 2
}
