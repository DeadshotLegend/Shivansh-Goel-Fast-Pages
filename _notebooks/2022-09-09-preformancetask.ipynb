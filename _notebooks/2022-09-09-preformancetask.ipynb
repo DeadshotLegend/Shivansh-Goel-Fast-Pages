{
 "cells": [
  {
   "cell_type": "markdown",
   "metadata": {},
   "source": [
    "# Preformance Task \n",
    "> Here is the basic overview of the preformance task\n",
    "- toc: true\n",
    "- categories: [bash, Week 3]\n",
    "### Firts thoughts and brainstorm\n",
    "\n",
    "- My partner and I figured out that we want to create a web page where we can quiz people or take insight on what other poeple have to say.\n",
    "- What we can start right now is setting up python code for interactive stuff we will have on the web page\n",
    "- We can also start creating html and markdown pages which will be very helpful for the use in the webpages\n",
    "- We can also start creating tags and links to make the webpage more operatable\n"
   ]
  },
  {
   "cell_type": "code",
   "execution_count": null,
   "metadata": {},
   "outputs": [],
   "source": []
  }
 ],
 "metadata": {
  "kernelspec": {
   "display_name": "Python 3.8.10 64-bit",
   "language": "python",
   "name": "python3"
  },
  "language_info": {
   "name": "python",
   "version": "3.8.10"
  },
  "orig_nbformat": 4,
  "vscode": {
   "interpreter": {
    "hash": "916dbcbb3f70747c44a77c7bcd40155683ae19c65e1c03b4aa3499c5328201f1"
   }
  }
 },
 "nbformat": 4,
 "nbformat_minor": 2
}
