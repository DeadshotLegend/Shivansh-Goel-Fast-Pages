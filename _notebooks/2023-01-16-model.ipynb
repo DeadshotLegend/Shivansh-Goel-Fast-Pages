{
 "cells": [
  {
   "attachments": {},
   "cell_type": "markdown",
   "metadata": {},
   "source": [
    "# Model for 1/16/2023"
   ]
  },
  {
   "cell_type": "code",
   "execution_count": 6,
   "metadata": {},
   "outputs": [],
   "source": [
    "from datetime import date\n",
    "\n",
    "def calculate(born):\n",
    "    today = date.today()\n",
    "    return today.year - born.year - ((today.month, today.day) < (born.month, born.day))\n",
    "\n",
    "dob = date(2004, 12, 31)\n",
    "age = calculate(dob)"
   ]
  },
  {
   "cell_type": "code",
   "execution_count": 8,
   "metadata": {},
   "outputs": [
    {
     "ename": "RecursionError",
     "evalue": "maximum recursion depth exceeded",
     "output_type": "error",
     "traceback": [
      "\u001b[0;31m---------------------------------------------------------------------------\u001b[0m",
      "\u001b[0;31mRecursionError\u001b[0m                            Traceback (most recent call last)",
      "Cell \u001b[0;32mIn[8], line 25\u001b[0m\n\u001b[1;32m     20\u001b[0m     \u001b[39m@name\u001b[39m\u001b[39m.\u001b[39msetter\n\u001b[1;32m     21\u001b[0m     \u001b[39mdef\u001b[39;00m \u001b[39mname\u001b[39m(\u001b[39mself\u001b[39m, name):\n\u001b[1;32m     22\u001b[0m         \u001b[39mself\u001b[39m\u001b[39m.\u001b[39mname \u001b[39m=\u001b[39m name\n\u001b[0;32m---> 25\u001b[0m stu \u001b[39m=\u001b[39m Student(classOf\u001b[39m=\u001b[39;49m\u001b[39m2025\u001b[39;49m, name\u001b[39m=\u001b[39;49m\u001b[39m\"\u001b[39;49m\u001b[39mShivansh\u001b[39;49m\u001b[39m\"\u001b[39;49m)\n\u001b[1;32m     26\u001b[0m users \u001b[39m=\u001b[39m [stu]\n\u001b[1;32m     28\u001b[0m json_string \u001b[39m=\u001b[39m json\u001b[39m.\u001b[39mdumps([\u001b[39mvars\u001b[39m(user) \u001b[39mfor\u001b[39;00m user \u001b[39min\u001b[39;00m users]) \n",
      "Cell \u001b[0;32mIn[8], line 3\u001b[0m, in \u001b[0;36mStudent.__init__\u001b[0;34m(self, classOf, name)\u001b[0m\n\u001b[1;32m      2\u001b[0m \u001b[39mdef\u001b[39;00m \u001b[39m__init__\u001b[39m(\u001b[39mself\u001b[39m, classOf, name):\n\u001b[0;32m----> 3\u001b[0m     \u001b[39mself\u001b[39;49m\u001b[39m.\u001b[39;49mclassOf \u001b[39m=\u001b[39m classOf\n\u001b[1;32m      4\u001b[0m     \u001b[39mself\u001b[39m\u001b[39m.\u001b[39mage \u001b[39m=\u001b[39m age\n",
      "Cell \u001b[0;32mIn[8], line 11\u001b[0m, in \u001b[0;36mStudent.classOf\u001b[0;34m(self, classOf)\u001b[0m\n\u001b[1;32m      9\u001b[0m \u001b[39m@classOf\u001b[39m\u001b[39m.\u001b[39msetter\n\u001b[1;32m     10\u001b[0m \u001b[39mdef\u001b[39;00m \u001b[39mclassOf\u001b[39m(\u001b[39mself\u001b[39m, classOf):\n\u001b[0;32m---> 11\u001b[0m     \u001b[39mself\u001b[39;49m\u001b[39m.\u001b[39;49mclassOf \u001b[39m=\u001b[39m classOf\n",
      "Cell \u001b[0;32mIn[8], line 11\u001b[0m, in \u001b[0;36mStudent.classOf\u001b[0;34m(self, classOf)\u001b[0m\n\u001b[1;32m      9\u001b[0m \u001b[39m@classOf\u001b[39m\u001b[39m.\u001b[39msetter\n\u001b[1;32m     10\u001b[0m \u001b[39mdef\u001b[39;00m \u001b[39mclassOf\u001b[39m(\u001b[39mself\u001b[39m, classOf):\n\u001b[0;32m---> 11\u001b[0m     \u001b[39mself\u001b[39;49m\u001b[39m.\u001b[39;49mclassOf \u001b[39m=\u001b[39m classOf\n",
      "    \u001b[0;31m[... skipping similar frames: Student.classOf at line 11 (2968 times)]\u001b[0m\n",
      "Cell \u001b[0;32mIn[8], line 11\u001b[0m, in \u001b[0;36mStudent.classOf\u001b[0;34m(self, classOf)\u001b[0m\n\u001b[1;32m      9\u001b[0m \u001b[39m@classOf\u001b[39m\u001b[39m.\u001b[39msetter\n\u001b[1;32m     10\u001b[0m \u001b[39mdef\u001b[39;00m \u001b[39mclassOf\u001b[39m(\u001b[39mself\u001b[39m, classOf):\n\u001b[0;32m---> 11\u001b[0m     \u001b[39mself\u001b[39;49m\u001b[39m.\u001b[39;49mclassOf \u001b[39m=\u001b[39m classOf\n",
      "\u001b[0;31mRecursionError\u001b[0m: maximum recursion depth exceeded"
     ]
    }
   ],
   "source": [
    "class Student:\n",
    "    def __init__(self, classOf, name):\n",
    "        self.classOf = classOf\n",
    "        self.age = age\n",
    "        \n",
    "    @property\n",
    "    def classOf(self):\n",
    "        return self.classOf\n",
    "    @classOf.setter\n",
    "    def classOf(self, classOf):\n",
    "        self.classOf = classOf\n",
    "        \n",
    "    @property\n",
    "    def age(self):\n",
    "        return self.age\n",
    "    \n",
    "    @property\n",
    "    def name(self):\n",
    "        return self.name\n",
    "    @name.setter\n",
    "    def name(self, name):\n",
    "        self.name = name\n",
    "        \n",
    "\n",
    "stu = Student(classOf=2025, name=\"Shivansh\")\n",
    "users = [stu]\n",
    "\n",
    "json_string = json.dumps([vars(user) for user in users]) \n",
    "print(json_string)"
   ]
  },
  {
   "cell_type": "markdown",
   "metadata": {},
   "source": []
  }
 ],
 "metadata": {
  "kernelspec": {
   "display_name": "Python 3",
   "language": "python",
   "name": "python3"
  },
  "language_info": {
   "codemirror_mode": {
    "name": "ipython",
    "version": 3
   },
   "file_extension": ".py",
   "mimetype": "text/x-python",
   "name": "python",
   "nbconvert_exporter": "python",
   "pygments_lexer": "ipython3",
   "version": "3.8.10"
  },
  "orig_nbformat": 4,
  "vscode": {
   "interpreter": {
    "hash": "916dbcbb3f70747c44a77c7bcd40155683ae19c65e1c03b4aa3499c5328201f1"
   }
  }
 },
 "nbformat": 4,
 "nbformat_minor": 2
}
