{
 "cells": [
  {
   "cell_type": "code",
   "execution_count": 9,
   "metadata": {},
   "outputs": [
    {
     "ename": "TclError",
     "evalue": "no display name and no $DISPLAY environment variable",
     "output_type": "error",
     "traceback": [
      "\u001b[0;31m---------------------------------------------------------------------------\u001b[0m",
      "\u001b[0;31mTclError\u001b[0m                                  Traceback (most recent call last)",
      "Cell \u001b[0;32mIn[9], line 11\u001b[0m\n\u001b[1;32m      7\u001b[0m high_score \u001b[39m=\u001b[39m \u001b[39m0\u001b[39m\n\u001b[1;32m     10\u001b[0m \u001b[39m# Creating a window screen\u001b[39;00m\n\u001b[0;32m---> 11\u001b[0m wn \u001b[39m=\u001b[39m turtle\u001b[39m.\u001b[39;49mScreen()\n\u001b[1;32m     12\u001b[0m wn\u001b[39m.\u001b[39mtitle(\u001b[39m\"\u001b[39m\u001b[39mSnake Game\u001b[39m\u001b[39m\"\u001b[39m)\n\u001b[1;32m     13\u001b[0m wn\u001b[39m.\u001b[39mbgcolor(\u001b[39m\"\u001b[39m\u001b[39mblue\u001b[39m\u001b[39m\"\u001b[39m)\n",
      "File \u001b[0;32m/usr/lib/python3.8/turtle.py:3663\u001b[0m, in \u001b[0;36mScreen\u001b[0;34m()\u001b[0m\n\u001b[1;32m   3659\u001b[0m \u001b[39m\"\"\"Return the singleton screen object.\u001b[39;00m\n\u001b[1;32m   3660\u001b[0m \u001b[39mIf none exists at the moment, create a new one and return it,\u001b[39;00m\n\u001b[1;32m   3661\u001b[0m \u001b[39melse return the existing one.\"\"\"\u001b[39;00m\n\u001b[1;32m   3662\u001b[0m \u001b[39mif\u001b[39;00m Turtle\u001b[39m.\u001b[39m_screen \u001b[39mis\u001b[39;00m \u001b[39mNone\u001b[39;00m:\n\u001b[0;32m-> 3663\u001b[0m     Turtle\u001b[39m.\u001b[39m_screen \u001b[39m=\u001b[39m _Screen()\n\u001b[1;32m   3664\u001b[0m \u001b[39mreturn\u001b[39;00m Turtle\u001b[39m.\u001b[39m_screen\n",
      "File \u001b[0;32m/usr/lib/python3.8/turtle.py:3679\u001b[0m, in \u001b[0;36m_Screen.__init__\u001b[0;34m(self)\u001b[0m\n\u001b[1;32m   3672\u001b[0m \u001b[39mdef\u001b[39;00m \u001b[39m__init__\u001b[39m(\u001b[39mself\u001b[39m):\n\u001b[1;32m   3673\u001b[0m     \u001b[39m# XXX there is no need for this code to be conditional,\u001b[39;00m\n\u001b[1;32m   3674\u001b[0m     \u001b[39m# as there will be only a single _Screen instance, anyway\u001b[39;00m\n\u001b[1;32m   3675\u001b[0m     \u001b[39m# XXX actually, the turtle demo is injecting root window,\u001b[39;00m\n\u001b[1;32m   3676\u001b[0m     \u001b[39m# so perhaps the conditional creation of a root should be\u001b[39;00m\n\u001b[1;32m   3677\u001b[0m     \u001b[39m# preserved (perhaps by passing it as an optional parameter)\u001b[39;00m\n\u001b[1;32m   3678\u001b[0m     \u001b[39mif\u001b[39;00m _Screen\u001b[39m.\u001b[39m_root \u001b[39mis\u001b[39;00m \u001b[39mNone\u001b[39;00m:\n\u001b[0;32m-> 3679\u001b[0m         _Screen\u001b[39m.\u001b[39m_root \u001b[39m=\u001b[39m \u001b[39mself\u001b[39m\u001b[39m.\u001b[39m_root \u001b[39m=\u001b[39m _Root()\n\u001b[1;32m   3680\u001b[0m         \u001b[39mself\u001b[39m\u001b[39m.\u001b[39m_root\u001b[39m.\u001b[39mtitle(_Screen\u001b[39m.\u001b[39m_title)\n\u001b[1;32m   3681\u001b[0m         \u001b[39mself\u001b[39m\u001b[39m.\u001b[39m_root\u001b[39m.\u001b[39mondestroy(\u001b[39mself\u001b[39m\u001b[39m.\u001b[39m_destroy)\n",
      "File \u001b[0;32m/usr/lib/python3.8/turtle.py:435\u001b[0m, in \u001b[0;36m_Root.__init__\u001b[0;34m(self)\u001b[0m\n\u001b[1;32m    434\u001b[0m \u001b[39mdef\u001b[39;00m \u001b[39m__init__\u001b[39m(\u001b[39mself\u001b[39m):\n\u001b[0;32m--> 435\u001b[0m     TK\u001b[39m.\u001b[39;49mTk\u001b[39m.\u001b[39;49m\u001b[39m__init__\u001b[39;49m(\u001b[39mself\u001b[39;49m)\n",
      "File \u001b[0;32m/usr/lib/python3.8/tkinter/__init__.py:2270\u001b[0m, in \u001b[0;36mTk.__init__\u001b[0;34m(self, screenName, baseName, className, useTk, sync, use)\u001b[0m\n\u001b[1;32m   2268\u001b[0m         baseName \u001b[39m=\u001b[39m baseName \u001b[39m+\u001b[39m ext\n\u001b[1;32m   2269\u001b[0m interactive \u001b[39m=\u001b[39m \u001b[39m0\u001b[39m\n\u001b[0;32m-> 2270\u001b[0m \u001b[39mself\u001b[39m\u001b[39m.\u001b[39mtk \u001b[39m=\u001b[39m _tkinter\u001b[39m.\u001b[39;49mcreate(screenName, baseName, className, interactive, wantobjects, useTk, sync, use)\n\u001b[1;32m   2271\u001b[0m \u001b[39mif\u001b[39;00m useTk:\n\u001b[1;32m   2272\u001b[0m     \u001b[39mself\u001b[39m\u001b[39m.\u001b[39m_loadtk()\n",
      "\u001b[0;31mTclError\u001b[0m: no display name and no $DISPLAY environment variable"
     ]
    }
   ],
   "source": [
    "import turtle\n",
    "import random\n",
    "import time\n",
    "\n",
    "delay = 0.1\n",
    "score = 0\n",
    "high_score = 0\n",
    " \n",
    " \n",
    "# Creating a window screen\n",
    "wn = turtle.Screen()\n",
    "wn.title(\"Snake Game\")\n",
    "wn.bgcolor(\"blue\")\n",
    "# the width and height can be put as user's choice\n",
    "wn.setup(width=600, height=600)\n",
    "wn.tracer(0)\n"
   ]
  }
 ],
 "metadata": {
  "kernelspec": {
   "display_name": "Python 3",
   "language": "python",
   "name": "python3"
  },
  "language_info": {
   "codemirror_mode": {
    "name": "ipython",
    "version": 3
   },
   "file_extension": ".py",
   "mimetype": "text/x-python",
   "name": "python",
   "nbconvert_exporter": "python",
   "pygments_lexer": "ipython3",
   "version": "3.8.10"
  },
  "orig_nbformat": 4,
  "vscode": {
   "interpreter": {
    "hash": "916dbcbb3f70747c44a77c7bcd40155683ae19c65e1c03b4aa3499c5328201f1"
   }
  }
 },
 "nbformat": 4,
 "nbformat_minor": 2
}
