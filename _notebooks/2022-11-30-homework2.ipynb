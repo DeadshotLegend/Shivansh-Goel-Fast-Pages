{
 "cells": [
  {
   "cell_type": "markdown",
   "metadata": {},
   "source": [
    "###  Homeowork 2 \n",
    "Finishing the homework\n",
    "Variables are going to be a variable called num which well be set to 7\n",
    "Then we are going to create a while loop and within the while loop there will be an if else statement"
   ]
  },
  {
   "cell_type": "code",
   "execution_count": 3,
   "metadata": {},
   "outputs": [
    {
     "name": "stdout",
     "output_type": "stream",
     "text": [
      "01100010\n"
     ]
    }
   ],
   "source": [
    "def convert(value):\n",
    "    set = \"\"\n",
    "    led = 7\n",
    "    while led >= 0:\n",
    "        if value % (2**led) == value:\n",
    "            set = set + \"0\"\n",
    "            led -= 1\n",
    "        else:\n",
    "            set = set + \"1\"\n",
    "            value -= 2**led\n",
    "            led -= 1\n",
    "    print(set)\n",
    "convert(98)"
   ]
  },
  {
   "cell_type": "code",
   "execution_count": 2,
   "metadata": {},
   "outputs": [
    {
     "name": "stdout",
     "output_type": "stream",
     "text": [
      "jaden: 5\n",
      "max: 3\n",
      "dylan: 5\n",
      "orlando: 7\n"
     ]
    }
   ],
   "source": [
    "# First part of the function with defining a list called values\n",
    "values = [\"jaden\",\"max\",\"dylan\",\"orlando\"] \n",
    "\n",
    "# Defining a function with a for loop to iterate through the list \"values\"\n",
    "def length(list): \n",
    "    for name in values:\n",
    "        print(name + \": \" + str(len(name)))\n",
    "\n",
    "length(values)"
   ]
  }
 ],
 "metadata": {
  "kernelspec": {
   "display_name": "Python 3.8.10 64-bit",
   "language": "python",
   "name": "python3"
  },
  "language_info": {
   "codemirror_mode": {
    "name": "ipython",
    "version": 3
   },
   "file_extension": ".py",
   "mimetype": "text/x-python",
   "name": "python",
   "nbconvert_exporter": "python",
   "pygments_lexer": "ipython3",
   "version": "3.8.10"
  },
  "orig_nbformat": 4,
  "vscode": {
   "interpreter": {
    "hash": "916dbcbb3f70747c44a77c7bcd40155683ae19c65e1c03b4aa3499c5328201f1"
   }
  }
 },
 "nbformat": 4,
 "nbformat_minor": 2
}
