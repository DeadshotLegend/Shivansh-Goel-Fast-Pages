{
 "cells": [
  {
   "cell_type": "markdown",
   "metadata": {},
   "source": [
    "###  Homeowork 2 \n",
    "Finishing the homework\n",
    "I created a function called convert\n",
    "Variables are going to be a variable called i which well be set to 7\n",
    "Then we are going to create a while loop and within the while loop there will be an if else statement"
   ]
  },
  {
   "cell_type": "code",
   "execution_count": 1,
   "metadata": {},
   "outputs": [
    {
     "name": "stdout",
     "output_type": "stream",
     "text": [
      "00111101\n"
     ]
    }
   ],
   "source": [
    "def convert(bin): # declare this variable and function\n",
    "    result = \"\" # variable which will be outputted later\n",
    "    i = 7\n",
    "\n",
    "    while i >= 0:\n",
    "        if bin % (2**i) == bin:  # here we run some while and if loops in order to classify each number as even or odd, and we assign 0 and 1 accordingly.\n",
    "            result = result + \"0\"\n",
    "            i -= 1\n",
    "        else:\n",
    "            result = result + \"1\"\n",
    "            bin -= 2**i\n",
    "            i -= 1\n",
    "\n",
    "    print(result) # final print of the result, in binary\n",
    "\n",
    "convert(61) # conversion mechanism"
   ]
  },
  {
   "cell_type": "code",
   "execution_count": 2,
   "metadata": {},
   "outputs": [
    {
     "name": "stdout",
     "output_type": "stream",
     "text": [
      "jaden: 5\n",
      "max: 3\n",
      "dylan: 5\n",
      "orlando: 7\n"
     ]
    }
   ],
   "source": [
    "names = [\"jaden\",\"max\",\"dylan\",\"orlando\"] # list which has all the data\n",
    "\n",
    "def length(list): # declare the variable and function\n",
    "    for name in names:\n",
    "        print(name + \": \" + str(len(name))) # prints the output of the length of each of the strings in each item in the list.\n",
    "\n",
    "length(names)"
   ]
  }
 ],
 "metadata": {
  "kernelspec": {
   "display_name": "Python 3.8.10 64-bit",
   "language": "python",
   "name": "python3"
  },
  "language_info": {
   "codemirror_mode": {
    "name": "ipython",
    "version": 3
   },
   "file_extension": ".py",
   "mimetype": "text/x-python",
   "name": "python",
   "nbconvert_exporter": "python",
   "pygments_lexer": "ipython3",
   "version": "3.8.10"
  },
  "orig_nbformat": 4,
  "vscode": {
   "interpreter": {
    "hash": "916dbcbb3f70747c44a77c7bcd40155683ae19c65e1c03b4aa3499c5328201f1"
   }
  }
 },
 "nbformat": 4,
 "nbformat_minor": 2
}
