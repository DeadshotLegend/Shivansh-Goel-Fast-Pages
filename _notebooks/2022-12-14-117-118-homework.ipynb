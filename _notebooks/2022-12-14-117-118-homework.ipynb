{
 "cells": [
  {
   "attachments": {},
   "cell_type": "markdown",
   "metadata": {},
   "source": [
    "# 3.17 - 3.18\n",
    "- title: Homework 3.17 - 3.18\n",
    "- permalink: /homework1718"
   ]
  },
  {
   "attachments": {},
   "cell_type": "markdown",
   "metadata": {},
   "source": [
    "# 3.17 Algorithmic Efficiency"
   ]
  },
  {
   "attachments": {},
   "cell_type": "markdown",
   "metadata": {},
   "source": [
    "## Vocabulary\n",
    "- Problem:\n",
    "    - Decision Problem: A problem with a yes or no answer\n",
    "    - Organization Problem: a problem with a goal of finding the best answer\n",
    "- Instance: a problem with a specific input\n",
    "- Efficiency: amount of computing needed to solve a problem\n",
    "    - Polynomial Efficiency (Good): more work takes a proportional amount of time (1 job is +2 time)\n",
    "    - Exponential Efficiency (Bad): more work takes an exponential amount more time (1 job is 2x time)\n",
    "- Heuristic Approach: When optimal solutions are inefficient, look for a possibly optimal solution that is more efficient\n",
    "- Decidable Problem: A decision problem that has a clear solution that will always make a correct output\n",
    "- Undecidable Problem: A decision problem with no solution that is not gaurenteed to produce the correct output\n"
   ]
  },
  {
   "attachments": {},
   "cell_type": "markdown",
   "metadata": {},
   "source": [
    "## Notes\n",
    "- Simply put, a heuristic is a problem-solving approach that utilizes a practical process (commonly referred to as “rule of thumb” or “best practice”) to produce a feasible solution that is good enough to quickly solve a particular problem and achieve immediate goals – but not necessarily an optimal solution.\n",
    "- In computer science terms efficiency is the ratio of useful work to resources (processor and storage) expended. In other words, the ratio of the output to the input of a given system.\n"
   ]
  },
  {
   "attachments": {},
   "cell_type": "markdown",
   "metadata": {},
   "source": [
    "## Challenge\n",
    "Try and fix this ineficcient code!\n",
    "Only change the code between the two commented lines.\n",
    "Fully programmed solution will improve your grade, at a minimum show that you tried."
   ]
  },
  {
   "cell_type": "code",
   "execution_count": 1,
   "metadata": {},
   "outputs": [
    {
     "name": "stdout",
     "output_type": "stream",
     "text": [
      "0.2981603145599365 seconds\n"
     ]
    }
   ],
   "source": [
    "import time\n",
    "numlist = [1,3,5,7,9,11,13,15,17,19]\n",
    "valuelist = [0,3,6,9,12,15,18,21]\n",
    "def isvalue(value,array):\n",
    "    #--------------------\n",
    "    if value in array:\n",
    "        return True ### These are the changes I made which are more effecient \n",
    "    else:\n",
    "        return False\n",
    "    #--------------------\n",
    "starttime = time.time()\n",
    "for i in range(100000):\n",
    "    for i in range(len(valuelist)):\n",
    "        x = isvalue(valuelist[i],numlist)\n",
    "endtime = time.time()\n",
    "print(endtime-starttime,'seconds') "
   ]
  },
  {
   "attachments": {},
   "cell_type": "markdown",
   "metadata": {},
   "source": [
    "# 3.18 Undecidable Problems"
   ]
  },
  {
   "attachments": {},
   "cell_type": "markdown",
   "metadata": {},
   "source": [
    "## Notes\n",
    "- Undecidable Problems are important for certain scenarios, for example: software that calculates climate any other software might error-out given a positive input, then opposite its output. If you fed this software into itself, some thing bizarre might show up. Say step one stated this system might have an error, the second one step might say no error. This proves step one became wrong, developing a paradox. Situations like this show up each day, whilst a laptop need to bet whilst to prevent loading a internet site that could by no means load. This is why net interctions will day trip if it takes too long."
   ]
  },
  {
   "attachments": {},
   "cell_type": "markdown",
   "metadata": {},
   "source": [
    "# Homework!\n",
    "\n",
    "Make an algorithm that finds the fastest route that hits every location once starting and ending at Del Norte. Make sure to show your thinking. If you are strugling, try using a huristic approach. Remember, what matters more than having perfectly functioning code is that you tried your hardest."
   ]
  },
  {
   "cell_type": "code",
   "execution_count": 2,
   "metadata": {},
   "outputs": [],
   "source": [
    "# RUN THIS CODE --- DO NOT EDIT\n",
    "dataset = {\n",
    "    'DelNorte':{\n",
    "        'Westview':15,\n",
    "        'MtCarmel':20,\n",
    "        'Poway':35,\n",
    "        'RanchoBernrdo':50\n",
    "    },\n",
    "    'Westview':{\n",
    "        'Del Norte':15,\n",
    "        'MtCarmel':35,\n",
    "        'Poway':25,\n",
    "        'RanchoBernrdo': 45\n",
    "    },\n",
    "    'MtCarmel':{\n",
    "        'Westview':35,\n",
    "        'Del Norte':20,\n",
    "        'Poway':40,\n",
    "        'RanchoBernrdo':30\n",
    "    },\n",
    "    'Poway':{\n",
    "        'Westview':25,\n",
    "        'MtCarmel':40,\n",
    "        'Del Norte':35,\n",
    "        'RanchoBernrdo':15\n",
    "    },\n",
    "    'RanchoBernardo':{\n",
    "        'Westview':45,\n",
    "        'MtCarmel':30,\n",
    "        'Poway':15,\n",
    "        'Del Norte':50\n",
    "    }\n",
    "}"
   ]
  },
  {
   "cell_type": "code",
   "execution_count": 17,
   "metadata": {},
   "outputs": [
    {
     "name": "stdout",
     "output_type": "stream",
     "text": [
      "The Shortest route from Del Norte and Back is 105\n",
      "The first stop of the drive is: Del Norte\n",
      "The second stop of the drive is: Poway\n",
      "The Third stop of the drive is: MtCarmel\n",
      "The Fourth stop of the drive is: Westview\n",
      "The Fifth stop of the drive is: RanchoBernrdo\n",
      "The Last stop of the drive is: Del Norte\n"
     ]
    }
   ],
   "source": [
    "def fastestroute(data):\n",
    "    num1 = 0\n",
    "    num2 = 0\n",
    "    num3 = 0\n",
    "    num4 = 0\n",
    "    num5 = 0\n",
    "    delay = 0\n",
    "    list = []\n",
    "    original = \"Del Norte\"\n",
    "    list.append(original)\n",
    "    while len(list) < 5:\n",
    "        mileage = 0\n",
    "        for value in data:\n",
    "            for num in data[value]:\n",
    "                if num not in list:\n",
    "                    answer = num\n",
    "                    mileage = data[value][num]\n",
    "                    answer = num1\n",
    "                    answer = num2\n",
    "                    answer = num3\n",
    "                    answer = num4\n",
    "                    answer = num5\n",
    "        list.append(answer)\n",
    "        delay+=mileage\n",
    "        value = answer\n",
    "    list.append(original)\n",
    "    print(\"The Shortest route from Del Norte and Back is\", delay)\n",
    "    print(\"The first stop of the drive is: \" + list[0],)\n",
    "    print(\"The second stop of the drive is: \" + list[1])\n",
    "    print(\"The Third stop of the drive is: \" + list[2])\n",
    "    print(\"The Fourth stop of the drive is: \" + list[3])\n",
    "    print(\"The Fifth stop of the drive is: \" + list[4])\n",
    "    print(\"The Last stop of the drive is: \" + list[5])\n",
    "\n",
    "\n",
    "\n",
    "fastestroute(dataset)"
   ]
  },
  {
   "attachments": {},
   "cell_type": "markdown",
   "metadata": {},
   "source": [
    "### Grading:\n",
    "|Challenge|Homework|\n",
    "|---|---|\n",
    "|.15 pts for attempt|.65 for attempt|\n",
    "|.20 pts for complete|.70 for complete|\n",
    "|.25 pts for above and beyond|.75 pts for above and beyond|\n"
   ]
  }
 ],
 "metadata": {
  "kernelspec": {
   "display_name": "Python 3.8.10 64-bit",
   "language": "python",
   "name": "python3"
  },
  "language_info": {
   "codemirror_mode": {
    "name": "ipython",
    "version": 3
   },
   "file_extension": ".py",
   "mimetype": "text/x-python",
   "name": "python",
   "nbconvert_exporter": "python",
   "pygments_lexer": "ipython3",
   "version": "3.8.10"
  },
  "orig_nbformat": 4,
  "vscode": {
   "interpreter": {
    "hash": "916dbcbb3f70747c44a77c7bcd40155683ae19c65e1c03b4aa3499c5328201f1"
   }
  }
 },
 "nbformat": 4,
 "nbformat_minor": 2
}
