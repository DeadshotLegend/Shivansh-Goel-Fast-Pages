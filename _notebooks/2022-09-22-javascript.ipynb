{
 "cells": [
  {
   "cell_type": "markdown",
   "metadata": {},
   "source": [
    "# JavaScript game\n",
    " \n",
    "### This is Javascript code\n",
    "- categories: [bash, Week 1]"
   ]
  },
  {
   "cell_type": "code",
   "execution_count": null,
   "metadata": {
    "vscode": {
     "languageId": "javascript"
    }
   },
   "outputs": [],
   "source": [
    "function startGame() {\n",
    "    myGamePiece = new component(30, 30, \"red\", 10, 120);\n",
    "    myGamePiece.gravity = 0.05;\n",
    "    myScore = new component(\"30px\", \"Consolas\", \"black\", 280, 40, \"text\");\n",
    "    myGameArea.start();\n",
    "  }\n",
    "  \n",
    "  var myGameArea = {\n",
    "    canvas : document.createElement(\"canvas\"),\n",
    "    start : function() {\n",
    "      this.canvas.width = 480;\n",
    "      this.canvas.height = 270;\n",
    "      this.context = this.canvas.getContext(\"2d\");\n",
    "      document.body.insertBefore(this.canvas, document.body.childNodes[0]);\n",
    "      this.frameNo = 0;\n",
    "    },\n",
    "    clear : function() {\n",
    "      this.context.clearRect(0, 0, this.canvas.width, this.canvas.height);\n",
    "    }\n",
    "  }"
   ]
  }
 ],
 "metadata": {
  "language_info": {
   "name": "python"
  },
  "orig_nbformat": 4
 },
 "nbformat": 4,
 "nbformat_minor": 2
}
